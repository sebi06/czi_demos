{
 "cells": [
  {
   "cell_type": "code",
   "execution_count": 1,
   "metadata": {},
   "outputs": [
    {
     "name": "stdout",
     "output_type": "stream",
     "text": [
      "Trying to find mxnet library ...\n",
      "ModuleNotFoundError: No module named 'mxnet'\n",
      "mxnet will not be used.\n",
      "Trying to find cellpose library ...\n",
      "ModuleNotFoundError: No module named 'cellpose'\n",
      "CellPose cannot be used.\n",
      "Trying to find tensorflow library ...\n",
      "TensorFlow Version :  unknown 1.15.0\n",
      "Trying to find stardist library ...\n"
     ]
    },
    {
     "name": "stderr",
     "output_type": "stream",
     "text": [
      "Using TensorFlow backend.\n"
     ]
    }
   ],
   "source": [
    "import numpy as np\n",
    "from czitools import imgfileutils as imf\n",
    "from aicspylibczi import CziFile\n",
    "import czifile as zis\n",
    "import xmltodict"
   ]
  },
  {
   "cell_type": "code",
   "execution_count": 2,
   "metadata": {},
   "outputs": [],
   "source": [
    "#filename = r\"C:\\Temp\\input\\DTScan_ID4.czi\"\n",
    "#filename = r'C:\\Temp\\input\\WP96_T=3_Z=4_Ch=2_3x3_A4-A5.czi'\n",
    "#filename = r'/datadisk1/tuxedo/temp/input/WP96_T=3_Z=4_Ch=2_5x5_A4.czi'\n",
    "filename = r'/datadisk1/tuxedo/temp/input/WP96_T=3_Z=4_Ch=2_3x3_A4-A5.czi'\n",
    "\n",
    "# get metadata\n",
    "#md, addmd = imf.get_metadata(filename)"
   ]
  },
  {
   "cell_type": "code",
   "execution_count": 3,
   "metadata": {},
   "outputs": [
    {
     "name": "stdout",
     "output_type": "stream",
     "text": [
      "----------czifile array ----------\n"
     ]
    },
    {
     "name": "stderr",
     "output_type": "stream",
     "text": [
      "Data has dimension M with depth 9, assuming M=0 is the desired value, if not the case specify M=x where x is an integer in [0, 9).\n"
     ]
    },
    {
     "name": "stdout",
     "output_type": "stream",
     "text": [
      "Trying to extract Scene and Well information if existing ...\n",
      "Key not found: 'CustomAttributes'\n",
      "Shape czi_czifile (1, 2, 1, 2, 4, 1792, 24292)\n",
      "Shape czi_aics_array (1, 1, 1, 2, 4, 9, 640, 640)\n",
      "Shape czi_aics_dims [('H', 1), ('S', 1), ('T', 1), ('C', 2), ('Z', 4), ('M', 9), ('Y', 640), ('X', 640)]\n"
     ]
    }
   ],
   "source": [
    "print('----------czifile array ----------')\n",
    "czi_czifile_array, md, addmd = imf.get_array_czi(filename, remove_HDim=False)\n",
    "print('Shape czi_czifile', czi_czifile_array.shape)\n",
    "czi_aics = CziFile(filename)\n",
    "czi_aics_out = czi_aics.read_image(S=0)\n",
    "czi_aics_array = czi_aics_out[0]\n",
    "czi_aics_dims = czi_aics_out[1]\n",
    "print('Shape czi_aics_array', czi_aics_array.shape)\n",
    "print('Shape czi_aics_dims', czi_aics_dims)"
   ]
  },
  {
   "cell_type": "code",
   "execution_count": 4,
   "metadata": {},
   "outputs": [
    {
     "name": "stdout",
     "output_type": "stream",
     "text": [
      "Shape czi_aics_array (1, 1, 1, 2, 4, 9, 640, 640)\n",
      "Shape czi_aics_dims [('H', 1), ('S', 1), ('T', 1), ('C', 2), ('Z', 4), ('M', 9), ('Y', 640), ('X', 640)]\n",
      "CZI Mosaic True\n",
      "SizeX 24292\n",
      "SizeY 1792\n",
      "SizeC 2\n",
      "SizeZ 4\n",
      "SizeT 1\n",
      "SizeS 2\n",
      "SizeM 9\n",
      "SizeB 1\n",
      "SizeH 1\n"
     ]
    }
   ],
   "source": [
    "print('Shape czi_aics_array', czi_aics_array.shape)\n",
    "print('Shape czi_aics_dims', czi_aics_dims)\n",
    "print('CZI Mosaic', md['czi_ismosaic'])\n",
    "print('SizeX', md['SizeX'])\n",
    "print('SizeY', md['SizeY'])\n",
    "print('SizeC', md['SizeC'])\n",
    "print('SizeZ', md['SizeZ'])\n",
    "print('SizeT', md['SizeT'])\n",
    "print('SizeS', md['SizeS'])\n",
    "print('SizeM', md['SizeM'])\n",
    "print('SizeB', md['SizeB'])\n",
    "print('SizeH', md['SizeH'])"
   ]
  },
  {
   "cell_type": "code",
   "execution_count": 5,
   "metadata": {},
   "outputs": [
    {
     "name": "stdout",
     "output_type": "stream",
     "text": [
      "------------- aics pylibczi -------_-----\n",
      "dims_aicspylibczi {'X': (0, 640), 'Y': (0, 640), 'Z': (0, 4), 'C': (0, 2), 'T': (0, 1), 'M': (0, 9), 'S': (0, 1), 'H': (0, 1)}\n",
      "dimorder_aicspylibczi HSTCZMYX\n",
      "size_aicspylibczi (-1, -1, -1, -1, -1, -1, -1, -1)\n",
      "czi_ismosaic True\n"
     ]
    }
   ],
   "source": [
    "print('------------- aics pylibczi -------_-----')\n",
    "print('dims_aicspylibczi', md['dims_aicspylibczi'])\n",
    "print('dimorder_aicspylibczi', md['dimorder_aicspylibczi'])\n",
    "print('size_aicspylibczi', md['size_aicspylibczi'])\n",
    "print('czi_ismosaic', md['czi_ismosaic'])"
   ]
  },
  {
   "cell_type": "code",
   "execution_count": 6,
   "metadata": {},
   "outputs": [
    {
     "name": "stdout",
     "output_type": "stream",
     "text": [
      "--, ----------- czifile -------------\n",
      "Shape_czifile (1, 2, 1, 2, 4, 1792, 24292, 1)\n",
      "Axes_czifile HSTCZYX\n"
     ]
    }
   ],
   "source": [
    "print('--, ----------- czifile -------------')\n",
    "print('Shape_czifile', md['Shape_czifile'])\n",
    "print('Axes_czifile', md['Axes_czifile'])"
   ]
  },
  {
   "cell_type": "code",
   "execution_count": 7,
   "metadata": {},
   "outputs": [
    {
     "name": "stdout",
     "output_type": "stream",
     "text": [
      "------------- aicsimageio -------------\n",
      "Axes_aics STCZYX\n",
      "Shape_aics (1, 1, 2, 4, 640, 640)\n"
     ]
    }
   ],
   "source": [
    "print('------------- aicsimageio -------------')\n",
    "print('Axes_aics', md['Axes_aics'])\n",
    "print('Shape_aics', md['Shape_aics'])"
   ]
  },
  {
   "cell_type": "code",
   "execution_count": 8,
   "metadata": {},
   "outputs": [
    {
     "name": "stdout",
     "output_type": "stream",
     "text": [
      "czi_aics_mosaicsize (77854, 42854, 24292, 1792)\n"
     ]
    }
   ],
   "source": [
    "# Mosaic files ignore the S dimension and use an internal mIndex to reconstruct, the scale factor allows one to generate a manageable image\n",
    "czi_aics_mosaicsize = czi_aics.read_mosaic_size()\n",
    "print('czi_aics_mosaicsize', czi_aics_mosaicsize)"
   ]
  },
  {
   "cell_type": "code",
   "execution_count": 9,
   "metadata": {},
   "outputs": [
    {
     "name": "stdout",
     "output_type": "stream",
     "text": [
      "czi_aics_scenebb (77854, 42854, 640, 640)\n",
      "czi_aics_scenehw (640, 640)\n"
     ]
    }
   ],
   "source": [
    "czi_aics_scenebb = czi_aics.scene_bounding_box()\n",
    "czi_aics_scenehw = czi_aics.scene_height_by_width()\n",
    "print('czi_aics_scenebb', czi_aics_scenebb)\n",
    "print('czi_aics_scenehw', czi_aics_scenehw)"
   ]
  },
  {
   "cell_type": "code",
   "execution_count": 10,
   "metadata": {},
   "outputs": [
    {
     "name": "stdout",
     "output_type": "stream",
     "text": [
      "CZI Mosaic Data Shape :  (1, 1, 1, 1, 1, 1792, 24292)\n"
     ]
    }
   ],
   "source": [
    "# make sure to specify all dimesions except S and M !!!\n",
    "czi_aics_mosaic = czi_aics.read_mosaic(H=0, T=0, Z=0, C=0, scale_factor=1.0)\n",
    "print('CZI Mosaic Data Shape : ', czi_aics_mosaic.shape)"
   ]
  },
  {
   "cell_type": "code",
   "execution_count": 11,
   "metadata": {},
   "outputs": [
    {
     "name": "stdout",
     "output_type": "stream",
     "text": [
      "czi_czifile_array (1, 2, 1, 2, 4, 1792, 24292, 1)\n"
     ]
    }
   ],
   "source": [
    "czi_czifile_array = zis.imread(filename)\n",
    "print('czi_czifile_array', czi_czifile_array.shape)"
   ]
  },
  {
   "cell_type": "code",
   "execution_count": 13,
   "metadata": {},
   "outputs": [
    {
     "name": "stderr",
     "output_type": "stream",
     "text": [
      "Data has dimension M with depth 9, assuming M=0 is the desired value, if not the case specify M=x where x is an integer in [0, 9).\n"
     ]
    },
    {
     "name": "stdout",
     "output_type": "stream",
     "text": [
      "Trying to extract Scene and Well information if existing ...\n",
      "Key not found: 'CustomAttributes'\n",
      "czi_imf_array (2, 1, 2, 4, 1792, 24292)\n",
      "czi_imf_Axes STCZYX\n"
     ]
    }
   ],
   "source": [
    "czi_imf_array, md1, addmd1 = imf.get_array_czi(filename, remove_HDim=True)\n",
    "print('czi_imf_array', czi_imf_array.shape)\n",
    "print('czi_imf_Axes', md1['Axes_czifile'])"
   ]
  },
  {
   "cell_type": "code",
   "execution_count": null,
   "metadata": {},
   "outputs": [],
   "source": []
  }
 ],
 "metadata": {
  "kernelspec": {
   "display_name": "Python [conda env:stardist] *",
   "language": "python",
   "name": "conda-env-stardist-py"
  },
  "language_info": {
   "codemirror_mode": {
    "name": "ipython",
    "version": 3
   },
   "file_extension": ".py",
   "mimetype": "text/x-python",
   "name": "python",
   "nbconvert_exporter": "python",
   "pygments_lexer": "ipython3",
   "version": "3.7.6"
  }
 },
 "nbformat": 4,
 "nbformat_minor": 4
}
