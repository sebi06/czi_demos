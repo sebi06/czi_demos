{
 "cells": [
  {
   "cell_type": "markdown",
   "metadata": {},
   "source": [
    "# Tribolium embryo morphometry over time in Napari\n",
    "Authors: Robert Haase, Daniela Vorkel, 2020\n",
    "\n",
    "This is the pyclesperanto version of a workflow earlier [published for clij2](https://clij.github.io/clij2-docs/md/tribolium_morphometry/). \n",
    "[ImageJ Macro original](https://github.com/clij/clij2-docs/tree/master/src/main/macro/tribolium_morphometry.ijm)\n",
    "\n",
    "This script is an example of heavy GPU-accelerated processing. It is recommended to use a dedicated\n",
    "graphics card with at least 8 GB of GDDR6 memory. Otherwise, it may be quite slow.\n",
    "\n",
    "Let's start by checking that pyclesperanto is installed and which GPU it uses."
   ]
  },
  {
   "cell_type": "code",
   "execution_count": 1,
   "metadata": {},
   "outputs": [
    {
     "name": "stdout",
     "output_type": "stream",
     "text": [
      "[<pyopencl.Device 'Quadro M2200' on 'NVIDIA CUDA' at 0x18aa0823f90>, <pyopencl.Device 'Intel(R) HD Graphics 530' on 'Intel(R) OpenCL' at 0x18aa0b42dd0>]\n",
      "Using OpenCL device Quadro M2200\n"
     ]
    }
   ],
   "source": [
    "import pyclesperanto_prototype as cle\n",
    "import numpy as np\n",
    "\n",
    "# show all graphics cards\n",
    "#print(cle._tier0._pycl.filter_devices())\n",
    "\n",
    "# show only GPU devices\n",
    "print(cle._tier0._pycl.filter_devices(dev_type='gpu'))\n",
    "\n",
    "# selecting an Nvidia RTX\n",
    "cle.select_device(\"Quadro M2200\")\n",
    "print(\"Using OpenCL device \" + cle.get_device().name)"
   ]
  },
  {
   "cell_type": "code",
   "execution_count": 2,
   "metadata": {},
   "outputs": [],
   "source": [
    "%gui qt"
   ]
  },
  {
   "cell_type": "markdown",
   "metadata": {},
   "source": [
    "## Load a data set\n",
    "The dataset shows a *Tribolium castaneum* embryo, imaged by a custom light sheet microscope, at a wavelength of 488nm (Imaging credits: Daniela Vorkel, Myers lab, MPI CBG). \n",
    "The data set has been resampled to a voxel size of 1x1x1 microns. The embryo expresses nuclei-GFP. We will use the dataset to detect nuclei and to generate an estimated cell-segmentation.\n",
    "\n",
    "All processing steps are performed in 3D space."
   ]
  },
  {
   "cell_type": "code",
   "execution_count": 3,
   "metadata": {},
   "outputs": [
    {
     "name": "stdout",
     "output_type": "stream",
     "text": [
      "Detected Image Type (based on extension):  czi\n"
     ]
    },
    {
     "name": "stderr",
     "output_type": "stream",
     "text": [
      "C:\\ProgramData\\Anaconda3\\envs\\imageanalysis\\lib\\site-packages\\aicsimageio\\transforms.py:178: UserWarning: Data has dimension B with depth 1, assuming B=0 is the desired value, if not the case specify B=x where x is an integer, list, tuple, range, or slice.\n",
      "  f\"Data has dimension {dim} with depth {data.shape[dim_index]}, \"\n"
     ]
    },
    {
     "name": "stdout",
     "output_type": "stream",
     "text": [
      "Trying to extract Scene and Well information if existing ...\n",
      "No valid Scene or Well information found: 'S'\n",
      "Scales will not be rounded.\n",
      "(15, 20, 700, 700)\n"
     ]
    }
   ],
   "source": [
    "from skimage.io import imread\n",
    "from aicspylibczi import CziFile\n",
    "import imgfileutils as imf\n",
    "\n",
    "#timelapse = imread('C:/structure/data/clincubator_data/Lund_18.0_22.0_Hours-iso.tif')\n",
    "# print out the spatial dimensions of the image\n",
    "#print(timelapse.shape)\n",
    "\n",
    "\n",
    "filename = r\"C:\\Users\\m1srh\\OneDrive - Carl Zeiss AG\\Testdata_Zeiss\\Castor\\Z-Stack_DCV\\CellDivision_T=15_Z=20_CH=2_DCV.czi\"\n",
    "\n",
    "# get the metadata\n",
    "md, addmd = imf.get_metadata(filename)\n",
    "\n",
    "# get czi object\n",
    "czi = CziFile(filename)\n",
    "timelapse, shp = czi.read_image(S=0, C=0)\n",
    "timelapse = np.squeeze(timelapse)\n",
    "print(timelapse.shape)"
   ]
  },
  {
   "cell_type": "code",
   "execution_count": 4,
   "metadata": {},
   "outputs": [],
   "source": [
    "def process_image(image):\n",
    "    import time\n",
    "\n",
    "    start_time = time.time()\n",
    "    \n",
    "    # push image to GPU memory and show it\n",
    "    gpu_input = cle.push_zyx(image)\n",
    "    # print(gpu_input)\n",
    "    \n",
    "    # gaussian blur\n",
    "    sigma = 2.0\n",
    "    gpu_blurred = cle.gaussian_blur(gpu_input, sigma_x=sigma, sigma_y=sigma, sigma_z=sigma)\n",
    "\n",
    "    # detect maxima\n",
    "    gpu_detected_maxima = cle.detect_maxima_box(gpu_blurred)\n",
    "    \n",
    "    # threshold\n",
    "    threshold = 300.0\n",
    "    gpu_thresholded = cle.greater_constant(gpu_blurred, constant=threshold)\n",
    "\n",
    "    # mask\n",
    "    gpu_masked_spots = cle.mask(gpu_detected_maxima, gpu_thresholded)\n",
    "\n",
    "    # label spots\n",
    "    gpu_labelled_spots = cle.connected_components_labeling_box(gpu_masked_spots)\n",
    "    # show_labels(gpu_labelled_spots)\n",
    "    \n",
    "    number_of_spots = int(cle.maximum_of_all_pixels(gpu_labelled_spots))\n",
    "    # print(\"Number of detected spots: \" + str(number_of_spots))\n",
    "    \n",
    "    # label map closing\n",
    "    number_of_dilations = 10\n",
    "    flip = cle.create_like(gpu_labelled_spots)\n",
    "    flop = cle.create_like(gpu_labelled_spots)\n",
    "    flag = cle.create([1,1,1])\n",
    "    cle.copy(gpu_labelled_spots, flip)\n",
    "\n",
    "    for i in range (0, number_of_dilations) :\n",
    "        cle.onlyzero_overwrite_maximum_box(flip, flag, flop)\n",
    "        cle.onlyzero_overwrite_maximum_diamond(flop, flag, flip)\n",
    "\n",
    "    # erode labels\n",
    "    flap = cle.greater_constant(flip, constant=1)\n",
    "    number_of_erosions = 4\n",
    "    for i in range(0, number_of_erosions):\n",
    "        cle.erode_box(flap, flop)\n",
    "        cle.erode_box(flop, flap)\n",
    "\n",
    "    gpu_labels = cle.mask(flip, flap)\n",
    "    \n",
    "    # get result back from GPU as numpy array\n",
    "    result = cle.pull_zyx(gpu_labels)\n",
    "        \n",
    "    print(\"Processing took \" + str(time.time() - start_time) + \" s\")\n",
    "\n",
    "    return result"
   ]
  },
  {
   "cell_type": "code",
   "execution_count": 5,
   "metadata": {},
   "outputs": [],
   "source": [
    "from skimage import data\n",
    "import napari\n",
    "viewer = napari.Viewer()"
   ]
  },
  {
   "cell_type": "code",
   "execution_count": 6,
   "metadata": {},
   "outputs": [
    {
     "name": "stdout",
     "output_type": "stream",
     "text": [
      "[1.0, 1.0, 3.5329184140969163]\n"
     ]
    }
   ],
   "source": [
    "def get_scalefactor(metadata):\n",
    "\n",
    "    # set default scale factor to 1.0\n",
    "    scalefactors = [1, 1, 1]\n",
    "\n",
    "    # get the factor between XY scaling\n",
    "    scalefactors[0] = metadata['XScale'] / metadata['YScale']\n",
    "    scalefactors[1] = metadata['XScale'] / metadata['YScale']\n",
    "    scalefactors[2] = metadata['ZScale'] / metadata['YScale']\n",
    "\n",
    "    return scalefactors\n",
    "\n",
    "# voxel size z,y,x\n",
    "#calibration = [1, 1, 1]\n",
    "\n",
    "sf = get_scalefactor(md)\n",
    "print(sf)\n",
    "\n",
    "\n",
    "# convenience function for visualisation\n",
    "def show(image):\n",
    "    viewer.add_image(image, scale=[sf[2], sf[1], sf[0]])\n",
    "    \n",
    "def show_labels(labels):\n",
    "    viewer.add_labels(labels, scale=[sf[2], sf[1], sf[0]])"
   ]
  },
  {
   "cell_type": "code",
   "execution_count": 7,
   "metadata": {},
   "outputs": [
    {
     "data": {
      "text/html": [
       "<table>\n",
       "<tr>\n",
       "<td>\n",
       "<table>\n",
       "  <thead>\n",
       "    <tr><td> </td><th> Array </th><th> Chunk </th></tr>\n",
       "  </thead>\n",
       "  <tbody>\n",
       "    <tr><th> Bytes </th><td> 294.00 MB </td> <td> 19.60 MB </td></tr>\n",
       "    <tr><th> Shape </th><td> (15, 20, 700, 700) </td> <td> (1, 20, 700, 700) </td></tr>\n",
       "    <tr><th> Count </th><td> 45 Tasks </td><td> 15 Chunks </td></tr>\n",
       "    <tr><th> Type </th><td> uint16 </td><td> numpy.ndarray </td></tr>\n",
       "  </tbody>\n",
       "</table>\n",
       "</td>\n",
       "<td>\n",
       "<svg width=\"386\" height=\"188\" style=\"stroke:rgb(0,0,0);stroke-width:1\" >\n",
       "\n",
       "  <!-- Horizontal lines -->\n",
       "  <line x1=\"0\" y1=\"0\" x2=\"29\" y2=\"0\" style=\"stroke-width:2\" />\n",
       "  <line x1=\"0\" y1=\"25\" x2=\"29\" y2=\"25\" style=\"stroke-width:2\" />\n",
       "\n",
       "  <!-- Vertical lines -->\n",
       "  <line x1=\"0\" y1=\"0\" x2=\"0\" y2=\"25\" style=\"stroke-width:2\" />\n",
       "  <line x1=\"1\" y1=\"0\" x2=\"1\" y2=\"25\" />\n",
       "  <line x1=\"3\" y1=\"0\" x2=\"3\" y2=\"25\" />\n",
       "  <line x1=\"5\" y1=\"0\" x2=\"5\" y2=\"25\" />\n",
       "  <line x1=\"7\" y1=\"0\" x2=\"7\" y2=\"25\" />\n",
       "  <line x1=\"9\" y1=\"0\" x2=\"9\" y2=\"25\" />\n",
       "  <line x1=\"11\" y1=\"0\" x2=\"11\" y2=\"25\" />\n",
       "  <line x1=\"13\" y1=\"0\" x2=\"13\" y2=\"25\" />\n",
       "  <line x1=\"15\" y1=\"0\" x2=\"15\" y2=\"25\" />\n",
       "  <line x1=\"17\" y1=\"0\" x2=\"17\" y2=\"25\" />\n",
       "  <line x1=\"19\" y1=\"0\" x2=\"19\" y2=\"25\" />\n",
       "  <line x1=\"21\" y1=\"0\" x2=\"21\" y2=\"25\" />\n",
       "  <line x1=\"23\" y1=\"0\" x2=\"23\" y2=\"25\" />\n",
       "  <line x1=\"25\" y1=\"0\" x2=\"25\" y2=\"25\" />\n",
       "  <line x1=\"27\" y1=\"0\" x2=\"27\" y2=\"25\" />\n",
       "  <line x1=\"29\" y1=\"0\" x2=\"29\" y2=\"25\" style=\"stroke-width:2\" />\n",
       "\n",
       "  <!-- Colored Rectangle -->\n",
       "  <polygon points=\"0.000000,0.000000 29.421379,0.000000 29.421379,25.412617 0.000000,25.412617\" style=\"fill:#ECB172A0;stroke-width:0\"/>\n",
       "\n",
       "  <!-- Text -->\n",
       "  <text x=\"14.710689\" y=\"45.412617\" font-size=\"1.0rem\" font-weight=\"100\" text-anchor=\"middle\" >15</text>\n",
       "  <text x=\"49.421379\" y=\"12.706308\" font-size=\"1.0rem\" font-weight=\"100\" text-anchor=\"middle\" transform=\"rotate(0,49.421379,12.706308)\">1</text>\n",
       "\n",
       "\n",
       "  <!-- Horizontal lines -->\n",
       "  <line x1=\"99\" y1=\"0\" x2=\"117\" y2=\"18\" style=\"stroke-width:2\" />\n",
       "  <line x1=\"99\" y1=\"120\" x2=\"117\" y2=\"138\" style=\"stroke-width:2\" />\n",
       "\n",
       "  <!-- Vertical lines -->\n",
       "  <line x1=\"99\" y1=\"0\" x2=\"99\" y2=\"120\" style=\"stroke-width:2\" />\n",
       "  <line x1=\"117\" y1=\"18\" x2=\"117\" y2=\"138\" style=\"stroke-width:2\" />\n",
       "\n",
       "  <!-- Colored Rectangle -->\n",
       "  <polygon points=\"99.000000,0.000000 117.293637,18.293637 117.293637,138.293637 99.000000,120.000000\" style=\"fill:#ECB172A0;stroke-width:0\"/>\n",
       "\n",
       "  <!-- Horizontal lines -->\n",
       "  <line x1=\"99\" y1=\"0\" x2=\"219\" y2=\"0\" style=\"stroke-width:2\" />\n",
       "  <line x1=\"117\" y1=\"18\" x2=\"237\" y2=\"18\" style=\"stroke-width:2\" />\n",
       "\n",
       "  <!-- Vertical lines -->\n",
       "  <line x1=\"99\" y1=\"0\" x2=\"117\" y2=\"18\" style=\"stroke-width:2\" />\n",
       "  <line x1=\"219\" y1=\"0\" x2=\"237\" y2=\"18\" style=\"stroke-width:2\" />\n",
       "\n",
       "  <!-- Colored Rectangle -->\n",
       "  <polygon points=\"99.000000,0.000000 219.000000,0.000000 237.293637,18.293637 117.293637,18.293637\" style=\"fill:#ECB172A0;stroke-width:0\"/>\n",
       "\n",
       "  <!-- Horizontal lines -->\n",
       "  <line x1=\"117\" y1=\"18\" x2=\"237\" y2=\"18\" style=\"stroke-width:2\" />\n",
       "  <line x1=\"117\" y1=\"138\" x2=\"237\" y2=\"138\" style=\"stroke-width:2\" />\n",
       "\n",
       "  <!-- Vertical lines -->\n",
       "  <line x1=\"117\" y1=\"18\" x2=\"117\" y2=\"138\" style=\"stroke-width:2\" />\n",
       "  <line x1=\"237\" y1=\"18\" x2=\"237\" y2=\"138\" style=\"stroke-width:2\" />\n",
       "\n",
       "  <!-- Colored Rectangle -->\n",
       "  <polygon points=\"117.293637,18.293637 237.293637,18.293637 237.293637,138.293637 117.293637,138.293637\" style=\"fill:#ECB172A0;stroke-width:0\"/>\n",
       "\n",
       "  <!-- Text -->\n",
       "  <text x=\"177.293637\" y=\"158.293637\" font-size=\"1.0rem\" font-weight=\"100\" text-anchor=\"middle\" >700</text>\n",
       "  <text x=\"257.293637\" y=\"78.293637\" font-size=\"1.0rem\" font-weight=\"100\" text-anchor=\"middle\" transform=\"rotate(-90,257.293637,78.293637)\">700</text>\n",
       "  <text x=\"98.146819\" y=\"149.146819\" font-size=\"1.0rem\" font-weight=\"100\" text-anchor=\"middle\" transform=\"rotate(45,98.146819,149.146819)\">20</text>\n",
       "</svg>\n",
       "</td>\n",
       "</tr>\n",
       "</table>"
      ],
      "text/plain": [
       "dask.array<stack, shape=(15, 20, 700, 700), dtype=uint16, chunksize=(1, 20, 700, 700), chunktype=numpy.ndarray>"
      ]
     },
     "execution_count": 7,
     "metadata": {},
     "output_type": "execute_result"
    }
   ],
   "source": [
    "# adapted from: https://github.com/tlambert03/napari-dask-example/blob/master/dask_napari.ipynb\n",
    "import dask\n",
    "import dask.array as da\n",
    "\n",
    "# create dask stack of lazy image readers\n",
    "lazy_process_image = dask.delayed(process_image)  # lazy reader\n",
    "\n",
    "lazy_arrays = [lazy_process_image(timelapse[n]) for n in range(0, timelapse.shape[0])]\n",
    "\n",
    "dask_arrays = [\n",
    "    da.from_delayed(lazy_array, shape=timelapse[0].shape, dtype=timelapse[0].dtype)\n",
    "    for lazy_array in lazy_arrays\n",
    "]\n",
    "# Stack into one large dask.array\n",
    "dask_stack = da.stack(dask_arrays, axis=0)\n",
    "dask_stack"
   ]
  },
  {
   "cell_type": "code",
   "execution_count": 8,
   "metadata": {},
   "outputs": [
    {
     "name": "stdout",
     "output_type": "stream",
     "text": [
      "15\n"
     ]
    }
   ],
   "source": [
    "print(timelapse.shape[0])"
   ]
  },
  {
   "cell_type": "code",
   "execution_count": 9,
   "metadata": {},
   "outputs": [],
   "source": [
    "#show(timelapse)\n",
    "#show_labels(dask_stack)"
   ]
  },
  {
   "cell_type": "code",
   "execution_count": null,
   "metadata": {},
   "outputs": [],
   "source": [
    "from napari.utils import nbscreenshot\n",
    "nbscreenshot(viewer)"
   ]
  },
  {
   "cell_type": "code",
   "execution_count": null,
   "metadata": {},
   "outputs": [],
   "source": []
  },
  {
   "cell_type": "code",
   "execution_count": null,
   "metadata": {},
   "outputs": [],
   "source": []
  }
 ],
 "metadata": {
  "kernelspec": {
   "display_name": "Python 3.7.4 64-bit ('imageanalysis': conda)",
   "language": "python",
   "name": "python37464bitimageanalysisconda8f885bdace91448488788405400e5b1f"
  },
  "language_info": {
   "codemirror_mode": {
    "name": "ipython",
    "version": 3
   },
   "file_extension": ".py",
   "mimetype": "text/x-python",
   "name": "python",
   "nbconvert_exporter": "python",
   "pygments_lexer": "ipython3",
   "version": "3.7.4"
  }
 },
 "nbformat": 4,
 "nbformat_minor": 4
}
