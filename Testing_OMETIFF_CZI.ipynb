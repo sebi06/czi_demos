{
 "cells": [
  {
   "cell_type": "code",
   "execution_count": 1,
   "metadata": {},
   "outputs": [],
   "source": [
    "import warnings\n",
    "#warnings.filterwarnings('ignore')\n",
    "#warnings.simplefilter('ignore')\n",
    "\n",
    "#import czifile as zis\n",
    "from apeer_ometiff_library import io, processing, omexmlClass\n",
    "import os\n",
    "#from matplotlib import pyplot as plt, cm\n",
    "#from mpl_toolkits.axes_grid1 import make_axes_locatable\n",
    "#from skimage.viewer import ImageViewer\n",
    "#import skimage.io\n",
    "#import matplotlib.colors as colors\n",
    "import numpy as np\n",
    "import ipywidgets as widgets\n",
    "import napari\n",
    "import imgfileutils as imf"
   ]
  },
  {
   "cell_type": "code",
   "execution_count": 15,
   "metadata": {},
   "outputs": [],
   "source": [
    "##### TEST CZI #####\n",
    "\n",
    "imgdict = {\n",
    "    1:r'C:\\Users\\m1srh\\Documents\\Testdata_Zeiss\\Lightsheet_Shoh\\Brain_Smartlabel_6x11_Z473_12OL_C0_left_(049).czi',\n",
    "    2:r'C:\\Users\\m1srh\\Documents\\Testdata_Zeiss\\Castor\\Z-Stack_DCV\\CellDivision_T=15_Z=20_CH=2_DCV.czi',\n",
    "    3:r'C:\\Users\\m1srh\\Documents\\Testdata_Zeiss\\Castor\\Z-Stack_DCV\\CellDivision_T=10_Z=15_CH=2_DCV_small.czi',\n",
    "    4:r'C:\\Users\\m1srh\\Documents\\Testdata_Zeiss\\Castor\\Z-Stack_DCV\\CellDivision_T=10_Z=15_CH=2_DCV_small.ome.tiff',\n",
    "    5: r'C:\\Users\\m1srh\\Documents\\Testdata_Zeiss\\Castor\\Z-Stack_DCV\\CellDivision_T=10_Z=15_CH=2_DCV_small_Fiji.ome.tiff',\n",
    "    6: r'C:\\Users\\m1srh\\Documents\\GitHub\\ipy_notebooks\\Read_OMETIFF_CZI\\testdata\\T=6_Z=15_CH=2.czi'\n",
    "}"
   ]
  },
  {
   "cell_type": "code",
   "execution_count": 16,
   "metadata": {},
   "outputs": [
    {
     "name": "stdout",
     "output_type": "stream",
     "text": [
      "Key not found in Metadata Dictionary: 'S'\n",
      "No Scence or Well Information detected.\n",
      "(1, 10, 2, 15, 256, 256, 1)\n",
      "BTCZYX0\n",
      "(1, 10, 2, 15, 256, 256)\n"
     ]
    }
   ],
   "source": [
    "filename = imgdict[3]\n",
    "image_name = os.path.basename(filename)\n",
    "\n",
    "if filename.lower().endswith('.ome.tiff') or filename.lower().endswith('.ome.tif'):\n",
    "    \n",
    "    # Return value is an array of order (T, Z, C, X, Y)\n",
    "    array, omexml = io.read_ometiff(filename)\n",
    "    metadata = imf.get_metadata(filename, series=0)\n",
    "    \n",
    "if filename.lower().endswith('.czi'):\n",
    "    \n",
    "    # get the array and the metadata\n",
    "    array, metadata, add_metadata = imf.get_array_czi(filename, return_addmd=False)\n",
    "    \n",
    "    print(metadata['Shape'])\n",
    "    print(metadata['Axes'])\n",
    "    print(array.shape)"
   ]
  },
  {
   "cell_type": "code",
   "execution_count": 18,
   "metadata": {},
   "outputs": [
    {
     "name": "stdout",
     "output_type": "stream",
     "text": [
      "(1, 10, 2, 15, 256, 256)\n",
      "czi\n"
     ]
    },
    {
     "ename": "KeyError",
     "evalue": "'Dimension'",
     "output_type": "error",
     "traceback": [
      "\u001b[1;31m---------------------------------------------------------------------------\u001b[0m",
      "\u001b[1;31mKeyError\u001b[0m                                  Traceback (most recent call last)",
      "\u001b[1;32m<ipython-input-18-fcfd24e94e0f>\u001b[0m in \u001b[0;36m<module>\u001b[1;34m\u001b[0m\n\u001b[0;32m      7\u001b[0m \u001b[0mprint\u001b[0m\u001b[1;33m(\u001b[0m\u001b[0marray\u001b[0m\u001b[1;33m.\u001b[0m\u001b[0mshape\u001b[0m\u001b[1;33m)\u001b[0m\u001b[1;33m\u001b[0m\u001b[1;33m\u001b[0m\u001b[0m\n\u001b[0;32m      8\u001b[0m \u001b[0mprint\u001b[0m\u001b[1;33m(\u001b[0m\u001b[0mmetadata\u001b[0m\u001b[1;33m[\u001b[0m\u001b[1;34m'Extension'\u001b[0m\u001b[1;33m]\u001b[0m\u001b[1;33m)\u001b[0m\u001b[1;33m\u001b[0m\u001b[1;33m\u001b[0m\u001b[0m\n\u001b[1;32m----> 9\u001b[1;33m \u001b[0mprint\u001b[0m\u001b[1;33m(\u001b[0m\u001b[0mmetadata\u001b[0m\u001b[1;33m[\u001b[0m\u001b[1;34m'Dimension'\u001b[0m\u001b[1;33m]\u001b[0m\u001b[1;33m)\u001b[0m\u001b[1;33m\u001b[0m\u001b[1;33m\u001b[0m\u001b[0m\n\u001b[0m",
      "\u001b[1;31mKeyError\u001b[0m: 'Dimension'"
     ]
    }
   ],
   "source": [
    "# show some metadata\n",
    "\n",
    "#print(metadata['Shape'])\n",
    "#print(metadata['Axes'])\n",
    "#print(metadata['DimOrder BF'])\n",
    "#print(metadata['DimOrder BF Array'])\n",
    "print(array.shape)\n",
    "print(metadata['Extension'])\n",
    "print(metadata['Dimension'])"
   ]
  },
  {
   "cell_type": "code",
   "execution_count": null,
   "metadata": {},
   "outputs": [],
   "source": [
    "show_ipyviewer = False\n",
    "\n",
    "if show_ipyviewer:\n",
    "\n",
    "    #out = widgets.interactive_output(get_TZC, { 't': t, 'z': z, 'c': c, 'r':r})\n",
    "    if metadata['Extension'] == 'ome.tiff':\n",
    "        ui, out = imf.create_ipyviewer_ome_tiff(array, metadata)\n",
    "    if metadata['Extension'] == 'czi':\n",
    "        ui, out = imf.create_ipyviewer_czi(array, metadata)\n",
    "\n",
    "    display(ui, out)"
   ]
  },
  {
   "cell_type": "code",
   "execution_count": null,
   "metadata": {},
   "outputs": [],
   "source": [
    "import time\n",
    "\n",
    "# switch to qt5 backend for napari viewer and wait a few seconds\n",
    "%gui qt5\n",
    "time.sleep(5)"
   ]
  },
  {
   "cell_type": "code",
   "execution_count": null,
   "metadata": {},
   "outputs": [],
   "source": [
    "napari_auto = True\n",
    "\n",
    "# try to configre napari automatiaclly based on metadata\n",
    "if napari_auto:\n",
    "    imf.show_napari(array, metadata)\n",
    "\n",
    "# configure napari viewer manually - check array diemsnion and dimensio order carefully \n",
    "if not napari_auto:\n",
    "    \n",
    "    # get the scalefactors\n",
    "    scalefactors = imf.get_scalefactor(metadata)\n",
    "    print(scalefactors)\n",
    "    \n",
    "    viewer = napari.Viewer()\n",
    "    # add every channel as a single layer\n",
    "    for ch in range(metadata['SizeC']):\n",
    "        chname = metadata['Channels'][ch]\n",
    "        viewer.add_image(array[ch, :, :, :, :], name=chname, scale=scalefactors['zx'])"
   ]
  },
  {
   "cell_type": "code",
   "execution_count": null,
   "metadata": {},
   "outputs": [],
   "source": []
  }
 ],
 "metadata": {
  "file_extension": ".py",
  "kernelspec": {
   "display_name": "Python 3",
   "language": "python",
   "name": "python3"
  },
  "language_info": {
   "codemirror_mode": {
    "name": "ipython",
    "version": 3
   },
   "file_extension": ".py",
   "mimetype": "text/x-python",
   "name": "python",
   "nbconvert_exporter": "python",
   "pygments_lexer": "ipython3",
   "version": "3.7.6"
  },
  "mimetype": "text/x-python",
  "name": "python",
  "npconvert_exporter": "python",
  "pygments_lexer": "ipython3",
  "version": 3
 },
 "nbformat": 4,
 "nbformat_minor": 2
}
