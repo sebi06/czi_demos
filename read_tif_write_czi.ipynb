{
 "cells": [
  {
   "cell_type": "code",
   "execution_count": 1,
   "id": "ff1c67a3",
   "metadata": {
    "pycharm": {
     "name": "#%%\n"
    }
   },
   "outputs": [
    {
     "name": "stdout",
     "output_type": "stream",
     "text": [
      "Requirement already satisfied: pip in c:\\users\\m1srh\\miniconda3\\envs\\napari_czmodel\\lib\\site-packages (22.3)\n",
      "Requirement already satisfied: pylibCZIrw<4.0,>=3.2 in c:\\users\\m1srh\\miniconda3\\envs\\napari_czmodel\\lib\\site-packages (3.2.0)\n",
      "Requirement already satisfied: tifffile[all] in c:\\users\\m1srh\\miniconda3\\envs\\napari_czmodel\\lib\\site-packages (2022.4.8)\n",
      "Requirement already satisfied: xmltodict in c:\\users\\m1srh\\miniconda3\\envs\\napari_czmodel\\lib\\site-packages (from pylibCZIrw<4.0,>=3.2) (0.12.0)\n",
      "Requirement already satisfied: numpy in c:\\users\\m1srh\\miniconda3\\envs\\napari_czmodel\\lib\\site-packages (from pylibCZIrw<4.0,>=3.2) (1.22.3)\n",
      "Requirement already satisfied: cmake in c:\\users\\m1srh\\miniconda3\\envs\\napari_czmodel\\lib\\site-packages (from pylibCZIrw<4.0,>=3.2) (3.22.4)\n",
      "Requirement already satisfied: lxml in c:\\users\\m1srh\\miniconda3\\envs\\napari_czmodel\\lib\\site-packages (from tifffile[all]) (4.8.0)\n",
      "Requirement already satisfied: imagecodecs>=2021.11.20 in c:\\users\\m1srh\\miniconda3\\envs\\napari_czmodel\\lib\\site-packages (from tifffile[all]) (2022.9.26)\n",
      "Requirement already satisfied: matplotlib>=3.3 in c:\\users\\m1srh\\miniconda3\\envs\\napari_czmodel\\lib\\site-packages (from tifffile[all]) (3.5.1)\n",
      "Requirement already satisfied: cycler>=0.10 in c:\\users\\m1srh\\miniconda3\\envs\\napari_czmodel\\lib\\site-packages (from matplotlib>=3.3->tifffile[all]) (0.11.0)\n",
      "Requirement already satisfied: packaging>=20.0 in c:\\users\\m1srh\\miniconda3\\envs\\napari_czmodel\\lib\\site-packages (from matplotlib>=3.3->tifffile[all]) (21.3)\n",
      "Requirement already satisfied: fonttools>=4.22.0 in c:\\users\\m1srh\\miniconda3\\envs\\napari_czmodel\\lib\\site-packages (from matplotlib>=3.3->tifffile[all]) (4.33.3)\n",
      "Requirement already satisfied: kiwisolver>=1.0.1 in c:\\users\\m1srh\\miniconda3\\envs\\napari_czmodel\\lib\\site-packages (from matplotlib>=3.3->tifffile[all]) (1.3.2)\n",
      "Requirement already satisfied: pyparsing>=2.2.1 in c:\\users\\m1srh\\miniconda3\\envs\\napari_czmodel\\lib\\site-packages (from matplotlib>=3.3->tifffile[all]) (3.0.4)\n",
      "Requirement already satisfied: pillow>=6.2.0 in c:\\users\\m1srh\\miniconda3\\envs\\napari_czmodel\\lib\\site-packages (from matplotlib>=3.3->tifffile[all]) (8.4.0)\n",
      "Requirement already satisfied: python-dateutil>=2.7 in c:\\users\\m1srh\\miniconda3\\envs\\napari_czmodel\\lib\\site-packages (from matplotlib>=3.3->tifffile[all]) (2.8.2)\n",
      "Requirement already satisfied: six>=1.5 in c:\\users\\m1srh\\miniconda3\\envs\\napari_czmodel\\lib\\site-packages (from python-dateutil>=2.7->matplotlib>=3.3->tifffile[all]) (1.16.0)\n"
     ]
    }
   ],
   "source": [
    "# Install pylibCZIrw and dependencies\n",
    "! pip install --upgrade pip\n",
    "! pip install \"pylibCZIrw>=3.2,<4.0\" \"tifffile[all]\"\n",
    "\n",
    "from pylibCZIrw import czi as pyczi\n",
    "import tifffile"
   ]
  },
  {
   "cell_type": "code",
   "execution_count": 3,
   "id": "martial-craps",
   "metadata": {
    "pycharm": {
     "name": "#%%\n"
    }
   },
   "outputs": [],
   "source": [
    "# please adapt to your needs\n",
    "tif_filepath = r\"F:\\Testdata_Zeiss\\CZI_Testfiles\\large_tif\\Large_stitch.tif\"\n",
    "czi_filepath = tif_filepath[:-4] + \".czi"
   ]
  },
  {
   "cell_type": "code",
   "execution_count": 5,
   "id": "2a43afb5",
   "metadata": {
    "pycharm": {
     "name": "#%%\n"
    }
   },
   "outputs": [
    {
     "name": "stdout",
     "output_type": "stream",
     "text": [
      "(29437, 31486, 3)\n"
     ]
    }
   ],
   "source": [
    "# read the TIF file and check the shape\n",
    "tif_image = tifffile.imread(tif_filepath)\n",
    "print(tif_image.shape)"
   ]
  },
  {
   "cell_type": "code",
   "execution_count": 6,
   "id": "6b8c8bfe-f9b8-49e4-ae90-3e25b2595760",
   "metadata": {},
   "outputs": [],
   "source": [
    "# reverse RGB since ZEN is using BGR\n",
    "tif_image = tif_image[...,::-1]"
   ]
  },
  {
   "cell_type": "code",
   "execution_count": 7,
   "id": "44ba6c63",
   "metadata": {
    "pycharm": {
     "name": "#%%\n"
    }
   },
   "outputs": [],
   "source": [
    "# create the filename for the new CZI image file\n",
    "new_czipath = r\"F:\\Testdata_Zeiss\\CZI_Testfiles\\large_tif\\Large_stitch_no_pyramid.czi\"\n",
    "\n",
    "# open a new CZI and allow overwrite (!!!)\n",
    "with pyczi.create_czi(new_czipath, exist_ok=True) as czidoc_w:\n",
    "\n",
    "    # write the plane\n",
    "    czidoc_w.write(data=tif_image)\n",
    "        \n",
    "    # write the document title, channel names and XYZ scaling to the CZI file\n",
    "    czidoc_w.write_metadata(\n",
    "        document_name='CZI_from_large_TIF',\n",
    "        channel_names={0: \"C1\"},\n",
    "        scale_x=0.1 * 10 ** -6, # plase adapt the scaling as needed\n",
    "        scale_y=0.1 * 10 ** -6,\n",
    "        scale_z=0.1 * 10 ** -6\n",
    "    )"
   ]
  },
  {
   "cell_type": "code",
   "execution_count": null,
   "id": "384d10cc-29a4-4357-8239-0368d178e49b",
   "metadata": {},
   "outputs": [],
   "source": []
  }
 ],
 "metadata": {
  "celltoolbar": "Raw Cell Format",
  "kernelspec": {
   "display_name": "Python [conda env:napari_czmodel]",
   "language": "python",
   "name": "conda-env-napari_czmodel-py"
  },
  "language_info": {
   "codemirror_mode": {
    "name": "ipython",
    "version": 3
   },
   "file_extension": ".py",
   "mimetype": "text/x-python",
   "name": "python",
   "nbconvert_exporter": "python",
   "pygments_lexer": "ipython3",
   "version": "3.9.12"
  },
  "vscode": {
   "interpreter": {
    "hash": "7019d285939b12df1a8a19088bce4b0ba11064da88178863e9101c39948d2ada"
   }
  }
 },
 "nbformat": 4,
 "nbformat_minor": 5
}
