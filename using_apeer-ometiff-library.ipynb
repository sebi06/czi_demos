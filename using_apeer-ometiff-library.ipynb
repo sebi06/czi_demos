{
 "cells": [
  {
   "cell_type": "code",
   "execution_count": 1,
   "metadata": {
    "slideshow": {
     "slide_type": "slide"
    }
   },
   "outputs": [],
   "source": [
    "########################################################################\n",
    "# File       : using_apeer-ometiff-library.ipynb\n",
    "# Version    : 0.3\n",
    "# Author     : czsrh\n",
    "# Date       : 23.11.2020\n",
    "# Institution : Carl Zeiss Microscopy GmbH\n",
    "#\n",
    "# Disclaimer: Just for testing - Use at your own risk.\n",
    "# Feedback or Improvements are welcome.\n",
    "########################################################################"
   ]
  },
  {
   "cell_type": "markdown",
   "metadata": {
    "slideshow": {
     "slide_type": "slide"
    }
   },
   "source": [
    "\n",
    "***Reading OME-TIFF files from Python using the apeer-ometiff-library***\n",
    "\n",
    "The APEER platform allows creating modules and workflows using basically any programming language due to its underlying Docker(TM) technology.\n",
    "Nevertheless Python seems to be the favorite choice for most of the time for various reasons:\n",
    "\n",
    "* Simple enough to be used by researchers with scripting experience\n",
    "* Powerful enough to create amazing computational tools\n",
    "* A huge and very open community and the whole ecosystem behind it\n",
    "* Probably the most popular language when it come to topics like Machine Learning\n",
    "\n",
    "The topic or question what is the \"best\" image data format for microscopy is a very interesting and also quite difficult\n",
    "question. There are no easy answers and there is no right or wrong here.\n",
    "\n",
    "Since the APEER platform tries to provide solutions our team decided that we must for sure support the currently most popular\n",
    "image data format for microscoscopy image data, which clearly is OME-TIFF (despite its known limitations).\n",
    "We explored \"easy and simple\" ways to read OME-TIFF for the most common use cases. We just want a simple python-based tool to read and write OME-TIFF without the need to include JAVA etc. into the modules.\n",
    "Therefore we reused parts of the existing python ecossystem, especially python-bioformats and tifffile, added some extra code and created a basic PyPi package.\n",
    "\n",
    "This package can be easily inclued in every APEER module but obviousy it can be also used inside our python application or within jupyter notebook.\n",
    "\n",
    "* [PyPi - apeer-ometiff-library](https://pypi.org/project/apeer-ometiff-library/)\n",
    "\n",
    "* [PyPi - python-bioformats](https://pypi.org/project/python-bioformats/).\n",
    "\n",
    "More information on the source code can be found on the APEER GitHub project page: [GitHub - apeer-ometiff-library](https://github.com/apeer-micro/apeer-ometiff-library)\n",
    "    \n",
    "In order to make things a bit easier we create a little helper script called imgfileutils.py which can be found here\n",
    "\n",
    "* [ZEISS GitHub OAD - imagefileutils.py](https://github.com/zeiss-microscopy/OAD/blob/master/jupyter_notebooks/Read_CZI_and_OMETIFF_and_display_widgets_and_napari/modules/imgfileutils.py)\n",
    "\n",
    "The complete notebook can be found here:\n",
    "    \n",
    "* [ZEISS GitHub OAD - using_apeer-ometiff-library.ipynb](https://github.com/zeiss-microscopy/OAD/blob/master/jupyter_notebooks/Read_CZI_and_OMETIFF_and_display_widgets_and_napari/using_apeer-ometiff-library.ipynb)\n",
    "\n",
    "Remark: The notebook uses a small subset of the original dataset because of the file size. Therefore the images used\n",
    "for illustration do not exactly correspond to what one will see if using the provided test files."
   ]
  },
  {
   "cell_type": "code",
   "execution_count": 2,
   "metadata": {
    "slideshow": {
     "slide_type": "slide"
    }
   },
   "outputs": [],
   "source": [
    "# import the libraries\n",
    "from apeer_ometiff_library import io, processing, omexmlClass\n",
    "\n",
    "# import script with some useful functions\n",
    "import sys\n",
    "sys.path.append(r'modules')\n",
    "import imgfileutils as imf\n",
    "from IPython.display import display, HTML"
   ]
  },
  {
   "cell_type": "code",
   "execution_count": 3,
   "metadata": {
    "slideshow": {
     "slide_type": "slide"
    }
   },
   "outputs": [
    {
     "name": "stdout",
     "output_type": "stream",
     "text": [
      "Created OME-XML file for testdata:  C:\\Users\\m1srh\\Documents\\GitHub\\czi_demos\\testdata\\CellDivision_T=10_Z=15_CH=2_DCV_small.ome.tiff\n"
     ]
    }
   ],
   "source": [
    "# define your OME-TIFF file here\n",
    "filename = r\"C:\\Users\\m1srh\\Documents\\GitHub\\czi_demos\\testdata\\CellDivision_T=10_Z=15_CH=2_DCV_small.ome.tiff\"\n",
    "\n",
    "# extract XML and save it to disk\n",
    "xmlometiff = imf.writexml_ometiff(filename)"
   ]
  },
  {
   "cell_type": "markdown",
   "metadata": {
    "slideshow": {
     "slide_type": "slide"
    }
   },
   "source": [
    "### Reading the OME-TIFF stack as an NumPy Array\n",
    "\n",
    "The easily ready and OME-TIFF stack without the need to deal with the JAVA runtime the apeer-ometiff-library used the following code:\n",
    "    \n",
    "```python\n",
    "def read_ometiff(input_path):\n",
    "    with tifffile.TiffFile(input_path) as tif:\n",
    "        array = tif.asarray()\n",
    "        omexml_string = tif.ome_metadata\n",
    "\n",
    "    # Turn Ome XML String to an Bioformats object for parsing\n",
    "    metadata = omexmlClass.OMEXML(omexml_string)\n",
    "\n",
    "    # Parse pixel sizes\n",
    "    pixels = metadata.image(0).Pixels\n",
    "    size_c = pixels.SizeC\n",
    "    size_t = pixels.SizeT\n",
    "    size_z = pixels.SizeZ\n",
    "    size_x = pixels.SizeX\n",
    "    size_y = pixels.SizeY\n",
    "\n",
    "    # Expand image array to 5D of order (T, Z, C, X, Y)\n",
    "    if size_c == 1:\n",
    "        array = np.expand_dims(array, axis=-3)\n",
    "    if size_z == 1:\n",
    "        array = np.expand_dims(array, axis=-4)\n",
    "    if size_t == 1:\n",
    "        array = np.expand_dims(array, axis=-5)\n",
    "\n",
    "    return array, omexml_string\n",
    "```"
   ]
  },
  {
   "cell_type": "code",
   "execution_count": 4,
   "metadata": {
    "slideshow": {
     "slide_type": "slide"
    }
   },
   "outputs": [
    {
     "name": "stdout",
     "output_type": "stream",
     "text": [
      "Detected Image Type (based on extension):  ometiff\n",
      "'TiffFile' object is not subscriptable\n",
      "Key not found: 'OMEXML' object has no attribute 'instrument'\n",
      "Key not found: 'OMEXML' object has no attribute 'instrument'\n",
      "Key not found: 'OMEXML' object has no attribute 'instrument'\n",
      "Scales will not be rounded.\n"
     ]
    }
   ],
   "source": [
    "# Read metadata and array differently for OME-TIFF by using the io function of the apeer-ometiff library\n",
    " \n",
    "# Return value is an array of order (T, Z, C, X, Y)\n",
    "array, omexml = io.read_ometiff(filename)\n",
    "\n",
    "# get the metadata for the OME-TIFF file\n",
    "metadata, add_metadata = imf.get_metadata(filename)"
   ]
  },
  {
   "cell_type": "code",
   "execution_count": 5,
   "metadata": {
    "slideshow": {
     "slide_type": "slide"
    }
   },
   "outputs": [
    {
     "name": "stdout",
     "output_type": "stream",
     "text": [
      "Array Shape:  (10, 15, 2, 256, 256)\n",
      "Dimension Order (BioFormats) :  TZCYX\n",
      "SizeT :  10\n",
      "SizeZ :  15\n",
      "SizeC :  2\n",
      "SizeX :  256\n",
      "SizeY :  256\n",
      "XScale:  0.091\n",
      "YScale:  0.091\n",
      "ZScale:  0.32\n"
     ]
    }
   ],
   "source": [
    "# check the shape of numpy array containing the pixel data\n",
    "print('Array Shape: ', array.shape)\n",
    "\n",
    "# get dimension order from metadata\n",
    "print('Dimension Order (BioFormats) : ', metadata['DimOrder BF Array'])\n",
    "\n",
    "# show dimensions and scaling\n",
    "print('SizeT : ', metadata['SizeT'])\n",
    "print('SizeZ : ', metadata['SizeZ'])\n",
    "print('SizeC : ', metadata['SizeC'])\n",
    "print('SizeX : ', metadata['SizeX'])\n",
    "print('SizeY : ', metadata['SizeY'])\n",
    "print('XScale: ', metadata['XScale'])\n",
    "print('YScale: ', metadata['YScale'])\n",
    "print('ZScale: ', metadata['ZScale'])"
   ]
  },
  {
   "cell_type": "code",
   "execution_count": 6,
   "metadata": {
    "slideshow": {
     "slide_type": "slide"
    }
   },
   "outputs": [
    {
     "data": {
      "text/html": [
       "<table border=\"1\" class=\"dataframe\">\n",
       "  <thead>\n",
       "    <tr style=\"text-align: right;\">\n",
       "      <th></th>\n",
       "      <th>Parameter</th>\n",
       "      <th>Value</th>\n",
       "    </tr>\n",
       "  </thead>\n",
       "  <tbody>\n",
       "    <tr>\n",
       "      <th>0</th>\n",
       "      <td>Directory</td>\n",
       "      <td>C:\\Users\\m1srh\\Documents\\GitHub\\czi_demos\\testdata</td>\n",
       "    </tr>\n",
       "    <tr>\n",
       "      <th>1</th>\n",
       "      <td>Filename</td>\n",
       "      <td>CellDivision_T=10_Z=15_CH=2_DCV_small.ome.tiff</td>\n",
       "    </tr>\n",
       "    <tr>\n",
       "      <th>2</th>\n",
       "      <td>Extension</td>\n",
       "      <td>ome.tiff</td>\n",
       "    </tr>\n",
       "    <tr>\n",
       "      <th>3</th>\n",
       "      <td>ImageType</td>\n",
       "      <td>ometiff</td>\n",
       "    </tr>\n",
       "    <tr>\n",
       "      <th>4</th>\n",
       "      <td>AcqDate</td>\n",
       "      <td>2016-02-12T09:41:02.491</td>\n",
       "    </tr>\n",
       "    <tr>\n",
       "      <th>5</th>\n",
       "      <td>TotalSeries</td>\n",
       "      <td>1</td>\n",
       "    </tr>\n",
       "    <tr>\n",
       "      <th>6</th>\n",
       "      <td>SizeX</td>\n",
       "      <td>256</td>\n",
       "    </tr>\n",
       "    <tr>\n",
       "      <th>7</th>\n",
       "      <td>SizeY</td>\n",
       "      <td>256</td>\n",
       "    </tr>\n",
       "    <tr>\n",
       "      <th>8</th>\n",
       "      <td>SizeZ</td>\n",
       "      <td>15</td>\n",
       "    </tr>\n",
       "    <tr>\n",
       "      <th>9</th>\n",
       "      <td>SizeC</td>\n",
       "      <td>2</td>\n",
       "    </tr>\n",
       "    <tr>\n",
       "      <th>10</th>\n",
       "      <td>SizeT</td>\n",
       "      <td>10</td>\n",
       "    </tr>\n",
       "    <tr>\n",
       "      <th>11</th>\n",
       "      <td>SizeS</td>\n",
       "      <td>1</td>\n",
       "    </tr>\n",
       "    <tr>\n",
       "      <th>12</th>\n",
       "      <td>SizeB</td>\n",
       "      <td>1</td>\n",
       "    </tr>\n",
       "    <tr>\n",
       "      <th>13</th>\n",
       "      <td>SizeM</td>\n",
       "      <td>1</td>\n",
       "    </tr>\n",
       "    <tr>\n",
       "      <th>14</th>\n",
       "      <td>Sizes BF</td>\n",
       "      <td>[1, 10, 15, 2, 256, 256]</td>\n",
       "    </tr>\n",
       "    <tr>\n",
       "      <th>15</th>\n",
       "      <td>DimOrder BF</td>\n",
       "      <td>XYCZT</td>\n",
       "    </tr>\n",
       "    <tr>\n",
       "      <th>16</th>\n",
       "      <td>DimOrder BF Array</td>\n",
       "      <td>TZCYX</td>\n",
       "    </tr>\n",
       "    <tr>\n",
       "      <th>17</th>\n",
       "      <td>czi_isRGB</td>\n",
       "      <td>None</td>\n",
       "    </tr>\n",
       "    <tr>\n",
       "      <th>18</th>\n",
       "      <td>czi_isMosaic</td>\n",
       "      <td>None</td>\n",
       "    </tr>\n",
       "    <tr>\n",
       "      <th>19</th>\n",
       "      <td>ObjNA</td>\n",
       "      <td>None</td>\n",
       "    </tr>\n",
       "    <tr>\n",
       "      <th>20</th>\n",
       "      <td>ObjMag</td>\n",
       "      <td>None</td>\n",
       "    </tr>\n",
       "    <tr>\n",
       "      <th>21</th>\n",
       "      <td>ObjID</td>\n",
       "      <td>None</td>\n",
       "    </tr>\n",
       "    <tr>\n",
       "      <th>22</th>\n",
       "      <td>ObjName</td>\n",
       "      <td>None</td>\n",
       "    </tr>\n",
       "    <tr>\n",
       "      <th>23</th>\n",
       "      <td>ObjImmersion</td>\n",
       "      <td>None</td>\n",
       "    </tr>\n",
       "    <tr>\n",
       "      <th>24</th>\n",
       "      <td>XScale</td>\n",
       "      <td>0.091</td>\n",
       "    </tr>\n",
       "    <tr>\n",
       "      <th>25</th>\n",
       "      <td>YScale</td>\n",
       "      <td>0.091</td>\n",
       "    </tr>\n",
       "    <tr>\n",
       "      <th>26</th>\n",
       "      <td>ZScale</td>\n",
       "      <td>0.32</td>\n",
       "    </tr>\n",
       "    <tr>\n",
       "      <th>27</th>\n",
       "      <td>XScaleUnit</td>\n",
       "      <td>None</td>\n",
       "    </tr>\n",
       "    <tr>\n",
       "      <th>28</th>\n",
       "      <td>YScaleUnit</td>\n",
       "      <td>None</td>\n",
       "    </tr>\n",
       "    <tr>\n",
       "      <th>29</th>\n",
       "      <td>ZScaleUnit</td>\n",
       "      <td>None</td>\n",
       "    </tr>\n",
       "    <tr>\n",
       "      <th>30</th>\n",
       "      <td>DetectorModel</td>\n",
       "      <td>None</td>\n",
       "    </tr>\n",
       "    <tr>\n",
       "      <th>31</th>\n",
       "      <td>DetectorName</td>\n",
       "      <td>[]</td>\n",
       "    </tr>\n",
       "    <tr>\n",
       "      <th>32</th>\n",
       "      <td>DetectorID</td>\n",
       "      <td>None</td>\n",
       "    </tr>\n",
       "    <tr>\n",
       "      <th>33</th>\n",
       "      <td>DetectorType</td>\n",
       "      <td>[]</td>\n",
       "    </tr>\n",
       "    <tr>\n",
       "      <th>34</th>\n",
       "      <td>InstrumentID</td>\n",
       "      <td>None</td>\n",
       "    </tr>\n",
       "    <tr>\n",
       "      <th>35</th>\n",
       "      <td>Channels</td>\n",
       "      <td>[LED555, LED470]</td>\n",
       "    </tr>\n",
       "    <tr>\n",
       "      <th>36</th>\n",
       "      <td>ChannelNames</td>\n",
       "      <td>[]</td>\n",
       "    </tr>\n",
       "    <tr>\n",
       "      <th>37</th>\n",
       "      <td>ChannelColors</td>\n",
       "      <td>[]</td>\n",
       "    </tr>\n",
       "    <tr>\n",
       "      <th>38</th>\n",
       "      <td>ImageIDs</td>\n",
       "      <td>[0]</td>\n",
       "    </tr>\n",
       "    <tr>\n",
       "      <th>39</th>\n",
       "      <td>NumPy.dtype</td>\n",
       "      <td>None</td>\n",
       "    </tr>\n",
       "    <tr>\n",
       "      <th>40</th>\n",
       "      <td>Name</td>\n",
       "      <td>CellDivision_T=10_Z=15_CH=2_DCV_small.czi #1</td>\n",
       "    </tr>\n",
       "    <tr>\n",
       "      <th>41</th>\n",
       "      <td>Axes_aics</td>\n",
       "      <td>STCZYX</td>\n",
       "    </tr>\n",
       "    <tr>\n",
       "      <th>42</th>\n",
       "      <td>Shape_aics</td>\n",
       "      <td>(1, 10, 2, 15, 256, 256)</td>\n",
       "    </tr>\n",
       "    <tr>\n",
       "      <th>43</th>\n",
       "      <td>SizeX_aics</td>\n",
       "      <td>256</td>\n",
       "    </tr>\n",
       "    <tr>\n",
       "      <th>44</th>\n",
       "      <td>SizeY_aics</td>\n",
       "      <td>256</td>\n",
       "    </tr>\n",
       "    <tr>\n",
       "      <th>45</th>\n",
       "      <td>SizeC_aics</td>\n",
       "      <td>2</td>\n",
       "    </tr>\n",
       "    <tr>\n",
       "      <th>46</th>\n",
       "      <td>SizeZ_aics</td>\n",
       "      <td>10</td>\n",
       "    </tr>\n",
       "    <tr>\n",
       "      <th>47</th>\n",
       "      <td>SizeT_aics</td>\n",
       "      <td>10</td>\n",
       "    </tr>\n",
       "    <tr>\n",
       "      <th>48</th>\n",
       "      <td>SizeS_aics</td>\n",
       "      <td>1</td>\n",
       "    </tr>\n",
       "  </tbody>\n",
       "</table>"
      ],
      "text/plain": [
       "<IPython.core.display.HTML object>"
      ]
     },
     "metadata": {},
     "output_type": "display_data"
    }
   ],
   "source": [
    "### show complete metadata\n",
    "\n",
    "# convert metadata dictionary to a pandas dataframe\n",
    "mdframe = imf.md2dataframe(metadata)\n",
    "\n",
    "# and display it nicely as a HTML inside the jupyter notebook\n",
    "display(HTML(mdframe.to_html()))"
   ]
  },
  {
   "cell_type": "code",
   "execution_count": null,
   "metadata": {
    "slideshow": {
     "slide_type": "slide"
    }
   },
   "outputs": [
    {
     "name": "stdout",
     "output_type": "stream",
     "text": [
      "Initializing Napari Viewer ...\n"
     ]
    },
    {
     "name": "stderr",
     "output_type": "stream",
     "text": [
      "WARNING: DirectWrite: CreateFontFaceFromHDC() failed (Indicates an error in an input file such as a font file.) for QFontDef(Family=\"8514oem\", pointsize=12, pixelsize=20, styleHint=5, weight=50, stretch=100, hintingPreference=0) LOGFONT(\"8514oem\", lfWidth=0, lfHeight=-20) dpi=144\n"
     ]
    },
    {
     "name": "stdout",
     "output_type": "stream",
     "text": [
      "Extract Channel as NumPy.Array\n",
      "Adding Channel  :  LED555\n",
      "Shape Channel   :  0 (10, 15, 256, 256)\n",
      "Scaling Factors :  [1.0, 3.516, 1.0, 1.0]\n",
      "Scaling:  0.0 4927.0\n",
      "Extract Channel as NumPy.Array\n",
      "Adding Channel  :  LED470\n",
      "Shape Channel   :  1 (10, 15, 256, 256)\n",
      "Scaling Factors :  [1.0, 3.516, 1.0, 1.0]\n",
      "Scaling:  0.0 25331.0\n",
      "Renaming the Sliders based on the Dimension String ....\n"
     ]
    }
   ],
   "source": [
    "# Here we use the Napari viewer (https://github.com/napari/napari) to visualize the\n",
    "# complete OME-TIFF stack, which is represented by a multi-dimensional NumPy Array. \n",
    "\n",
    "# configure napari automatically based on metadata and show the OME-TIFF stack\n",
    "layers = imf.show_napari(array, metadata,\n",
    "                         blending='additive',\n",
    "                         gamma=0.85,\n",
    "                         add_mdtable=True,\n",
    "                         rename_sliders=True,\n",
    "                         use_BFdims=True)"
   ]
  },
  {
   "cell_type": "markdown",
   "metadata": {
    "slideshow": {
     "slide_type": "slide"
    }
   },
   "source": [
    "<p><img src=\"images/display_ometiff_napari.png\" title=\"napari Viewer with 5D stack from OME-TIFF\"></p>"
   ]
  },
  {
   "cell_type": "markdown",
   "metadata": {
    "slideshow": {
     "slide_type": "slide"
    }
   },
   "source": [
    "In order to create a slideshow using this notebook run the following lines from a command line:\n",
    "\n",
    "```bash\n",
    "cd c:\\Users\\...\\jupyter_notebooks\\Read_CZI_and_OMETIFF_and_display_widgets_and_napari\n",
    "\n",
    "jupyter nbconvert using_apeer-ometiff-library.ipynb --to slides --post serve\n",
    "```"
   ]
  },
  {
   "cell_type": "code",
   "execution_count": null,
   "metadata": {},
   "outputs": [],
   "source": []
  }
 ],
 "metadata": {
  "celltoolbar": "Slideshow",
  "file_extension": ".py",
  "kernelspec": {
   "display_name": "Python 3.7.4 64-bit ('imageanalysis': conda)",
   "language": "python",
   "name": "python37464bitimageanalysisconda8f885bdace91448488788405400e5b1f"
  },
  "language_info": {
   "codemirror_mode": {
    "name": "ipython",
    "version": 3
   },
   "file_extension": ".py",
   "mimetype": "text/x-python",
   "name": "python",
   "nbconvert_exporter": "python",
   "pygments_lexer": "ipython3",
   "version": "3.7.4"
  },
  "mimetype": "text/x-python",
  "name": "python",
  "npconvert_exporter": "python",
  "pygments_lexer": "ipython3",
  "version": 3
 },
 "nbformat": 4,
 "nbformat_minor": 2
}
