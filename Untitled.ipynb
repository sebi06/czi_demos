{
 "cells": [
  {
   "cell_type": "code",
   "execution_count": 2,
   "metadata": {},
   "outputs": [
    {
     "name": "stdout",
     "output_type": "stream",
     "text": [
      "Trying to find mxnet library ...\n",
      "ModuleNotFoundError: No module named 'mxnet'\n",
      "mxnet will not be used.\n",
      "Trying to find cellpose library ...\n",
      "ModuleNotFoundError: No module named 'cellpose'\n",
      "CellPose cannot be used.\n",
      "Trying to find tensorflow library ...\n",
      "TensorFlow Version :  unknown 1.15.0\n",
      "Trying to find stardist library ...\n"
     ]
    },
    {
     "name": "stderr",
     "output_type": "stream",
     "text": [
      "Using TensorFlow backend.\n"
     ]
    }
   ],
   "source": [
    "import numpy as np\n",
    "from czitools import imgfileutils as imf\n",
    "from aicspylibczi import CziFile\n",
    "import czifile as zis\n",
    "import xmltodict"
   ]
  },
  {
   "cell_type": "code",
   "execution_count": 5,
   "metadata": {},
   "outputs": [],
   "source": [
    "#filename = r\"C:\\Temp\\input\\DTScan_ID4.czi\"\n",
    "#filename = r'C:\\Temp\\input\\WP96_T=3_Z=4_Ch=2_3x3_A4-A5.czi'\n",
    "filename = r'C:\\Temp\\input\\WP96_T=3_Z=4_Ch=2_5x5_A4.czi'\n",
    "\n",
    "#md, addmd = imf.get_metadata(filename)\n",
    "\n",
    "#czi = CziFile(filename)"
   ]
  },
  {
   "cell_type": "code",
   "execution_count": null,
   "metadata": {},
   "outputs": [],
   "source": [
    "# Get the shape of the data, the coordinate pairs are (start index, size)\n",
    "dimensions = czi.dims_shape()\n",
    "print(dimensions)\n",
    "print(czi.dims)\n",
    "print(czi.size)\n",
    "print(czi.is_mosaic())  # True"
   ]
  },
  {
   "cell_type": "code",
   "execution_count": null,
   "metadata": {},
   "outputs": [],
   "source": [
    "print(md['Shape'])\n",
    "print(md['Axes'])\n",
    "print(md['Axes_aics'])\n",
    "print(md['Shape_aics'])"
   ]
  },
  {
   "cell_type": "code",
   "execution_count": null,
   "metadata": {},
   "outputs": [],
   "source": [
    "out = czi.read_image(S=0, T=0, Z=0)"
   ]
  },
  {
   "cell_type": "code",
   "execution_count": null,
   "metadata": {},
   "outputs": [],
   "source": [
    "image = out[0]\n",
    "dim = out[1]\n",
    "print(image.shape)\n",
    "print(dim)\n",
    "print(czi.dims)"
   ]
  },
  {
   "cell_type": "code",
   "execution_count": null,
   "metadata": {},
   "outputs": [],
   "source": [
    "# Mosaic files ignore the S dimension and use an internal mIndex to reconstruct, the scale factor allows one to generate a manageable image\n",
    "ms = czi.read_mosaic_size()\n",
    "sb = czi.read_subblock_rect(S=0)\n",
    "mosaic_data = czi.read_mosaic(T=0, Z=0, C=0, scale_factor=1.0)\n",
    "print(ms)\n",
    "print(sb)\n",
    "print('CZI Mosaic Data Shape : ', mosaic_data.shape)"
   ]
  },
  {
   "cell_type": "code",
   "execution_count": 3,
   "metadata": {},
   "outputs": [
    {
     "ename": "NameError",
     "evalue": "name 'filename' is not defined",
     "output_type": "error",
     "traceback": [
      "\u001b[1;31m---------------------------------------------------------------------------\u001b[0m",
      "\u001b[1;31mNameError\u001b[0m                                 Traceback (most recent call last)",
      "\u001b[1;32m<ipython-input-3-4e708e457c9d>\u001b[0m in \u001b[0;36m<module>\u001b[1;34m\u001b[0m\n\u001b[1;32m----> 1\u001b[1;33m \u001b[0mcziarray\u001b[0m\u001b[1;33m,\u001b[0m \u001b[0mmd\u001b[0m\u001b[1;33m,\u001b[0m \u001b[0maddmd\u001b[0m \u001b[1;33m=\u001b[0m \u001b[0mimf\u001b[0m\u001b[1;33m.\u001b[0m\u001b[0mget_array_czi\u001b[0m\u001b[1;33m(\u001b[0m\u001b[0mfilename\u001b[0m\u001b[1;33m)\u001b[0m\u001b[1;33m\u001b[0m\u001b[1;33m\u001b[0m\u001b[0m\n\u001b[0m",
      "\u001b[1;31mNameError\u001b[0m: name 'filename' is not defined"
     ]
    }
   ],
   "source": [
    "cziarray, md, addmd = imf.get_array_czi(filename)"
   ]
  },
  {
   "cell_type": "code",
   "execution_count": 7,
   "metadata": {},
   "outputs": [
    {
     "name": "stdout",
     "output_type": "stream",
     "text": [
      "(1, 1, 3, 2, 4, 2944, 2944, 1)\n",
      "HSTCZYX0\n"
     ]
    }
   ],
   "source": [
    "# get CZI object and read array\n",
    "czi = zis.CziFile(filename)\n",
    "cziarray = czi.asarray()\n",
    "print(czi.shape)\n",
    "print(czi.axes)"
   ]
  },
  {
   "cell_type": "code",
   "execution_count": 13,
   "metadata": {},
   "outputs": [
    {
     "name": "stderr",
     "output_type": "stream",
     "text": [
      "Data has dimension H with depth 1, assuming H=0 is the desired value, if not the case specify H=x where x is an integer, list, tuple, range, or slice.\n",
      "Data has dimension M with depth 25, assuming M=0 is the desired value, if not the case specify M=x where x is an integer, list, tuple, range, or slice.\n"
     ]
    },
    {
     "name": "stdout",
     "output_type": "stream",
     "text": [
      "Trying to extract Scene and Well information if existing ...\n",
      "Key not found: 'CustomAttributes'\n",
      "(1, 1, 3, 2, 4, 2944, 2944, 1)\n",
      "STCZYX0\n",
      "STCZYX\n",
      "(1, 3, 2, 4, 640, 640)\n",
      "(1, 3, 2, 4, 2944, 2944)\n"
     ]
    }
   ],
   "source": [
    "cziarray, md, addmd = imf.get_array_czi(filename)\n",
    "print(md['Shape'])\n",
    "print(md['Axes'])\n",
    "print(md['Axes_aics'])\n",
    "print(md['Shape_aics'])\n",
    "print(cziarray.shape)"
   ]
  },
  {
   "cell_type": "code",
   "execution_count": 15,
   "metadata": {},
   "outputs": [
    {
     "data": {
      "text/plain": [
       "'STCZYX'"
      ]
     },
     "execution_count": 15,
     "metadata": {},
     "output_type": "execute_result"
    }
   ],
   "source": [
    "md['Axes'][:-1]"
   ]
  },
  {
   "cell_type": "code",
   "execution_count": null,
   "metadata": {},
   "outputs": [],
   "source": []
  }
 ],
 "metadata": {
  "kernelspec": {
   "display_name": "Python 3.7.6 64-bit ('stardist': conda)",
   "language": "python",
   "name": "python37664bitstardistcondafd7f36bf48df4b2195ad0f81f83919fe"
  },
  "language_info": {
   "codemirror_mode": {
    "name": "ipython",
    "version": 3
   },
   "file_extension": ".py",
   "mimetype": "text/x-python",
   "name": "python",
   "nbconvert_exporter": "python",
   "pygments_lexer": "ipython3",
   "version": "3.7.6"
  }
 },
 "nbformat": 4,
 "nbformat_minor": 4
}
