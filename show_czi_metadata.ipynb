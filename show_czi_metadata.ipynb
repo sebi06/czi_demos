{
 "cells": [
  {
   "cell_type": "code",
   "execution_count": null,
   "metadata": {},
   "outputs": [],
   "source": [
    "import sys\n",
    "import imgfileutils as imf\n",
    "from IPython.display import display, HTML\n",
    "\n",
    "#filename = r\"C:\\Users\\m1srh\\Downloads\\sub-6368_20x_MsGcg_RbCol4_SMACy3_islet1.czi\"\n",
    "filename = r\"testdata\\CellDivision_T=10_Z=15_CH=2_DCV_small.czi\""
   ]
  },
  {
   "cell_type": "code",
   "execution_count": null,
   "metadata": {},
   "outputs": [],
   "source": [
    "# get the metadata from the czi file\n",
    "md, additional_mdczi = imf.get_metadata(filename)\n",
    "\n",
    "# show some metainformation\n",
    "print('------------------   Show Metainformation ------------------')\n",
    "\n",
    "# shape and dimension entry from CZI file as returned by czifile.py\n",
    "# be aware of the difference bewteen czifile.py and AICSImageIO\n",
    "print('Array Shape (czifile)          : ', md['Shape_czifile'])\n",
    "print('Dimension Entry (czifile)      : ', md['Axes_czifile'])\n",
    "print('Array Shape (aicsimageio)      : ', md['Shape_aics'])\n",
    "print('Dimension Entry (aicsimageio)  : ', md['Axes_aics'])\n",
    "print('------------------------------------------------------------')\n",
    "print('SizeS : ', md['SizeS'])\n",
    "print('SizeT : ', md['SizeT'])\n",
    "print('SizeZ : ', md['SizeZ'])\n",
    "print('SizeC : ', md['SizeC'])\n",
    "print('SizeX (czifile) : ', md['SizeX'])\n",
    "print('SizeY (czifile) : ', md['SizeY'])\n",
    "print('SizeY (aicsimageio) : ', md['SizeX_aics'])\n",
    "print('SizeY (aicsimageio) : ', md['SizeY_aics'])\n",
    "print('XScale : ', md['XScale'])\n",
    "print('Yscale : ', md['YScale'])\n",
    "print('Zscale : ', md['ZScale'])"
   ]
  },
  {
   "cell_type": "code",
   "execution_count": null,
   "metadata": {},
   "outputs": [],
   "source": [
    "### show complete metadata\n",
    "\n",
    "# convert metadata dictionary to a pandas dataframe\n",
    "mdframe = imf.md2dataframe(md)\n",
    "\n",
    "# and display it nicely as a HTML inside the jupyter notebook\n",
    "display(HTML(mdframe.to_html()))"
   ]
  },
  {
   "cell_type": "code",
   "execution_count": null,
   "metadata": {},
   "outputs": [],
   "source": []
  }
 ],
 "metadata": {
  "kernelspec": {
   "display_name": "Python 3.7.4 64-bit ('imageanalysis': conda)",
   "language": "python",
   "name": "python37464bitimageanalysisconda8f885bdace91448488788405400e5b1f"
  },
  "language_info": {
   "codemirror_mode": {
    "name": "ipython",
    "version": 3
   },
   "file_extension": ".py",
   "mimetype": "text/x-python",
   "name": "python",
   "nbconvert_exporter": "python",
   "pygments_lexer": "ipython3",
   "version": "3.7.4"
  }
 },
 "nbformat": 4,
 "nbformat_minor": 4
}
