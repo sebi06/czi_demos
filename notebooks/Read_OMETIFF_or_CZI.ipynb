{
 "cells": [
  {
   "cell_type": "code",
   "execution_count": 1,
   "metadata": {},
   "outputs": [],
   "source": [
    "import warnings\n",
    "warnings.filterwarnings('ignore')\n",
    "warnings.simplefilter('ignore')\n",
    "\n",
    "import czifile as zis\n",
    "from apeer_ometiff_library import io, processing, omexmlClass\n",
    "import os\n",
    "from matplotlib import pyplot as plt, cm\n",
    "from mpl_toolkits.axes_grid1 import make_axes_locatable\n",
    "from skimage.viewer import ImageViewer\n",
    "import skimage.io\n",
    "import matplotlib.colors as colors\n",
    "import numpy as np\n",
    "#from skimage.external import tifffile\n",
    "import ipywidgets as widgets\n",
    "\n",
    "import imgfileutils as imf"
   ]
  },
  {
   "cell_type": "code",
   "execution_count": 2,
   "metadata": {},
   "outputs": [],
   "source": [
    "##### TEST CZI #####\n",
    "\n",
    "imgdict = {\n",
    "    1:r'/datadisk1/tuxedo/testpictures/Testdata_Zeiss/testczi/XYCZ-Regions-T_CH=2_Z=5_T=3_Tile=2x2.czi',\n",
    "    2:r'/datadisk1/tuxedo/testpictures/Testdata_Zeiss/testczi/XYCZ-Regions-T_CH=2_Z=5_Tile=2x2_T=3.czi',\n",
    "    3:r'/datadisk1/tuxedo/testpictures/Testdata_Zeiss/testczi/XYCZT_CH=2_Z=5_All_CH_per_Slice.czi',\n",
    "    4:r'/datadisk1/tuxedo/testpictures/Testdata_Zeiss/testczi/XYZCT_Z=5_CH=2_Z=5_FullStack_per_CH.czi',\n",
    "    5:r'/datadisk1/tuxedo/testpictures/Testdata_Zeiss/testczi/XYZCT_Z=15_C=2_T=20',\n",
    "    6:r'/datadisk1/tuxedo/testpictures/Testdata_Zeiss/testczi/2x2_SNAP_CH=2_Z=5_T=2.czi',\n",
    "    7:r'/datadisk1/tuxedo/testpictures/Testdata_Zeiss/testczi/S=2_T=5_Z=3_CH=2_A2.czi',\n",
    "    8:r'/datadisk1/tuxedo/testpictures/Testdata_Zeiss/celldivison/CellDivision_T=10_Z=20_CH=1_DCV.czi',\n",
    "    9:r'/datadisk1/tuxedo/testpictures/Testdata_Zeiss/celldivisonCellDivision_T=15_Z=20_CH=2_DCV.czi',\n",
    "    10:r'/datadisk1/tuxedo/testpictures/Testdata_Zeiss/particles/Filter_with_Particles_small.czi',\n",
    "    11:r'/datadisk1/tuxedo/testpictures/Testdata_Zeiss/Brainslide/BrainProject/8Brains_DAPI_5X_stitched.czi',\n",
    "    12:r'/datadisk1/tuxedo/testpictures/Testdata_Zeiss/Brainslide/BrainProject/DTScan_ID3.czi',\n",
    "    13:r'/datadisk1/tuxedo/testpictures/Fruit_Fly_Brain_3D/Fruit_Fly_Brain.ome.tif',\n",
    "    14:r'/datadisk1/tuxedo/testpictures/Fruit_Fly_Brain_3D/Fruit_Fly_Brain.ome.czi',\n",
    "    15: r'c:\\Users\\m1srh\\Documents\\Testdata_Zeiss\\AxioScan\\kungel_RGB.czi',\n",
    "    16: r'c:\\Users\\m1srh\\Documents\\Testdata_Zeiss\\AxioScan\\kungel_RGB_comp2.czi',\n",
    "    17: r'C:\\Temp\\input\\Filter_with_Particles_small.ome.tiff'\n",
    "}"
   ]
  },
  {
   "cell_type": "code",
   "execution_count": 3,
   "metadata": {},
   "outputs": [
    {
     "name": "stdout",
     "output_type": "stream",
     "text": [
      "Image Type:  ometiff\n",
      "Getting OME-TIFF Metadata ...\n"
     ]
    }
   ],
   "source": [
    "filename = imgdict[17]\n",
    "image_name = os.path.basename(filename)\n",
    "\n",
    "if filename.lower().endswith('.ome.tiff') or filename.lower().endswith('.ome.tif'):\n",
    "    \n",
    "    # Return value is an array of order (T, Z, C, X, Y)\n",
    "    (array, omexml) = io.read_ometiff(filename)\n",
    "    metadata = imf.get_metadata(filename, series=0)\n",
    "    \n",
    "if filename.lower().endswith('.czi'):\n",
    "    \n",
    "    # get only the metadata\n",
    "    metadata = imf.get_metadata(filename)\n",
    "    \n",
    "    print(metadata['Shape'])\n",
    "    print(metadata['Axes'])\n",
    "    \n",
    "    # get the array and the metadata\n",
    "    array, metadata = imf.get_array_czi(filename, replacezero=False)\n",
    "\n",
    "    print(array.shape)"
   ]
  },
  {
   "cell_type": "code",
   "execution_count": 4,
   "metadata": {},
   "outputs": [
    {
     "name": "stdout",
     "output_type": "stream",
     "text": [
      "0 242\n",
      "None\n",
      "None\n",
      "(1, 1, 1, 2061, 4662)\n",
      "ome.tiff\n"
     ]
    }
   ],
   "source": [
    "print(array.min(), array.max())\n",
    "print(metadata['Shape'])\n",
    "print(metadata['Axes'])\n",
    "print(array.shape)\n",
    "print(metadata['Extension'])"
   ]
  },
  {
   "cell_type": "code",
   "execution_count": 5,
   "metadata": {},
   "outputs": [
    {
     "data": {
      "application/vnd.jupyter.widget-view+json": {
       "model_id": "25bb8576b54c45df81fcec78f447a738",
       "version_major": 2,
       "version_minor": 0
      },
      "text/plain": [
       "Output()"
      ]
     },
     "metadata": {},
     "output_type": "display_data"
    },
    {
     "data": {
      "application/vnd.jupyter.widget-view+json": {
       "model_id": "d60e4cf156fa40f8b136a0381b10cf57",
       "version_major": 2,
       "version_minor": 0
      },
      "text/plain": [
       "VBox(children=(IntSlider(value=1, continuous_update=False, description='Time:', disabled=True, max=1, min=1), …"
      ]
     },
     "metadata": {},
     "output_type": "display_data"
    }
   ],
   "source": [
    "#out = widgets.interactive_output(get_TZC, { 't': t, 'z': z, 'c': c, 'r':r})\n",
    "if metadata['Extension'] == 'ome.tiff':\n",
    "    ui, out = imf.create_ipyviewer_ome_tiff(array, metadata)\n",
    "if metadata['Extension'] == 'czi':\n",
    "    ui, out = imf.create_ipyviewer_czi(array, metadata)\n",
    "\n",
    "display(ui, out)"
   ]
  },
  {
   "cell_type": "code",
   "execution_count": null,
   "metadata": {},
   "outputs": [],
   "source": []
  }
 ],
 "metadata": {
  "file_extension": ".py",
  "kernelspec": {
   "display_name": "Python 3",
   "language": "python",
   "name": "python3"
  },
  "language_info": {
   "codemirror_mode": {
    "name": "ipython",
    "version": 3
   },
   "file_extension": ".py",
   "mimetype": "text/x-python",
   "name": "python",
   "nbconvert_exporter": "python",
   "pygments_lexer": "ipython3",
   "version": "3.7.6"
  },
  "mimetype": "text/x-python",
  "name": "python",
  "npconvert_exporter": "python",
  "pygments_lexer": "ipython3",
  "version": 3
 },
 "nbformat": 4,
 "nbformat_minor": 2
}
