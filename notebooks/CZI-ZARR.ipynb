{
 "cells": [
  {
   "cell_type": "code",
   "execution_count": 1,
   "metadata": {
    "slideshow": {
     "slide_type": "slide"
    }
   },
   "outputs": [],
   "source": [
    "########################################################################\n",
    "# File       : CZI_ZARR.ipynb\n",
    "# Version    : 0.1\n",
    "# Author     : czsrh\n",
    "# Date       : 12.11.2019\n",
    "# Insitution : Carl Zeiss Microscopy GmbH\n",
    "#\n",
    "# Disclaimer: Just for testing - Use at your own risk.\n",
    "# Feedback or Improvements are welcome.\n",
    "########################################################################"
   ]
  },
  {
   "cell_type": "code",
   "execution_count": 1,
   "metadata": {
    "slideshow": {
     "slide_type": "slide"
    }
   },
   "outputs": [],
   "source": [
    "\n",
    "# this can be used to switch on/off warnings\n",
    "import warnings\n",
    "warnings.filterwarnings('ignore')\n",
    "warnings.simplefilter('ignore')\n",
    "\n",
    "# import the libraries mentioned above\n",
    "from apeer_ometiff_library import io, processing, omexmlClass\n",
    "import czifile as zis\n",
    "import xmltodict\n",
    "import os\n",
    "import numpy as np\n",
    "import ipywidgets as widgets\n",
    "import napari\n",
    "import imgfileutils as imf\n",
    "import xml.etree.ElementTree as ET\n",
    "import zarr"
   ]
  },
  {
   "cell_type": "code",
   "execution_count": 3,
   "metadata": {
    "slideshow": {
     "slide_type": "slide"
    }
   },
   "outputs": [],
   "source": [
    "# define your testfiles here\n",
    "\n",
    "#testfolder = r'C:\\Users\\m1srh\\Documents\\GitHub\\ipy_notebooks\\Read_OMETIFF_CZI\\testdata'\n",
    "testfolder = r'/datadisk1/tuxedo/Github/ipy_notebooks/Read_OMETIFF_CZI/testdata'\n",
    "\n",
    "imgdict = {1: os.path.join(testfolder, r'CellDivision_T=10_Z=15_CH=2_DCV_small_green.ome.tiff'),\n",
    "           2: os.path.join(testfolder, r'CellDivision_T=10_Z=15_CH=2_DCV_small_red.ome.tiff'),\n",
    "           3: os.path.join(testfolder, r'CellDivision_T=10_Z=15_CH=2_DCV_small.ome.tiff'),\n",
    "           4: os.path.join(testfolder, r'CellDivision_T=10_Z=15_CH=2_DCV_small_green.czi'),\n",
    "           5: os.path.join(testfolder, r'CellDivision_T=10_Z=15_CH=2_DCV_small_red.czi'),\n",
    "           6: os.path.join(testfolder, r'CellDivision_T=10_Z=15_CH=2_DCV_small.czi')\n",
    "}\n",
    "\n",
    "#filename = imgdict[6]\n",
    "#filename = r'/datadisk1/tuxedo/testpictures/Testdata_Zeiss/celldivison/CellDivision_T=15_Z=20_CH=2_DCV.czi'\n",
    "filename = r'L:\\Data\\Testdata_Zeiss\\Castor\\Castor_Beta\\Castor_Beta2\\20150610\\Test4_4Ch_Hoechst_FITC_A568_MitoDR_20X0.95_1.0X_02_WellD3.czi'"
   ]
  },
  {
   "cell_type": "code",
   "execution_count": 4,
   "metadata": {
    "slideshow": {
     "slide_type": "slide"
    }
   },
   "outputs": [],
   "source": [
    "# read metadata and array differently for OME-TIFF or CZI data\n",
    "if filename.lower().endswith('.ome.tiff') or filename.lower().endswith('.ome.tif'):\n",
    "    \n",
    "    # Return value is an array of order (T, Z, C, X, Y)\n",
    "    (array, omexml) = io.read_ometiff(filename)\n",
    "    metadata, add_metadata = imf.get_metadata(filename, series=0)\n",
    "    \n",
    "if filename.lower().endswith('.czi'):\n",
    "\n",
    "    # get the array and the metadata\n",
    "    array, metadata, add_metadata = imf.get_array_czi(filename, return_addmd=False)"
   ]
  },
  {
   "cell_type": "code",
   "execution_count": 5,
   "metadata": {},
   "outputs": [
    {
     "name": "stdout",
     "output_type": "stream",
     "text": [
      "Directory  :  L:\\Data\\Testdata_Zeiss\\Castor\\Castor_Beta\\Castor_Beta2\\20150610\n",
      "Filename  :  Test4_4Ch_Hoechst_FITC_A568_MitoDR_20X0.95_1.0X_02_WellD3.czi\n",
      "Extension  :  czi\n",
      "ImageType  :  czi\n",
      "Name  :  None\n",
      "AcqDate  :  2015-06-10T16:46:55.9482799Z\n",
      "TotalSeries  :  None\n",
      "SizeX  :  7164\n",
      "SizeY  :  7964\n",
      "SizeZ  :  1\n",
      "SizeC  :  5\n",
      "SizeT  :  1\n",
      "Sizes BF  :  None\n",
      "DimOrder BF  :  None\n",
      "DimOrder BF Array  :  None\n",
      "DimOrder CZI  :  {'B': 0, 'S': 1, 'T': -1, 'C': 2, 'Z': -1, 'Y': 3, 'X': 4, '0': 5}\n",
      "Axes  :  BSCYX0\n",
      "Shape  :  (1, 1, 5, 7964, 7164, 1)\n",
      "isRGB  :  None\n",
      "ObjNA  :  0.95\n",
      "ObjMag  :  20.0\n",
      "ObjID  :  Objective:1\n",
      "ObjName  :  Plan-Apochromat 20x/0.95\n",
      "ObjImmersion  :  Air\n",
      "XScale  :  0.227\n",
      "YScale  :  0.227\n",
      "ZScale  :  0.227\n",
      "XScaleUnit  :  µm\n",
      "YScaleUnit  :  µm\n",
      "ZScaleUnit  :  None\n",
      "DetectorModel  :  Axiocam 506 #3\n",
      "DetectorName  :  Axiocam506m\n",
      "DetectorID  :  Detector:Axiocam 506 #3\n",
      "InstrumentID  :  None\n",
      "Channels  :  ['MT633', 'AF568', 'FITC', 'DAPI', 'PGC']\n",
      "ImageIDs  :  []\n",
      "NumPy.dtype  :  uint16\n",
      "PixelType  :  Gray16\n",
      "SizeM  :  24\n",
      "SizeB  :  1\n",
      "SizeS  :  1\n",
      "SW-Name  :  ZEN 2 (blue edition)\n",
      "SW-Version  :  2.2.0.0\n",
      "TubelensMag  :  1.0\n",
      "ObjNominalMag  :  20.0\n"
     ]
    }
   ],
   "source": [
    "# show all the metadata\n",
    "for key, value in metadata.items():\n",
    "    # print all key-value pairs for the dictionary\n",
    "    print(key, ' : ', value)"
   ]
  },
  {
   "cell_type": "code",
   "execution_count": 6,
   "metadata": {
    "slideshow": {
     "slide_type": "slide"
    }
   },
   "outputs": [
    {
     "name": "stdout",
     "output_type": "stream",
     "text": [
      "Array Shape:  (1, 1, 5, 7964, 7164)\n",
      "Dimension Order (BioFormats) :  None\n",
      "CZI Array Shape :  (1, 1, 5, 7964, 7164, 1)\n",
      "CZI Dimension Entry :  BSCYX0\n"
     ]
    }
   ],
   "source": [
    "# outout the shape of the returned numpy array\n",
    "\n",
    "# shape of numpy array\n",
    "print('Array Shape: ', array.shape)\n",
    "\n",
    "# dimension order from metadata\n",
    "print('Dimension Order (BioFormats) : ', metadata['DimOrder BF Array'])\n",
    "\n",
    "# shape and dimension entry from CZI file as returned by czifile.py\n",
    "print('CZI Array Shape : ', metadata['Shape'])\n",
    "print('CZI Dimension Entry : ', metadata['Axes'])"
   ]
  },
  {
   "cell_type": "code",
   "execution_count": 8,
   "metadata": {
    "slideshow": {
     "slide_type": "slide"
    }
   },
   "outputs": [
    {
     "name": "stdout",
     "output_type": "stream",
     "text": [
      "<class 'zarr.util.InfoReporter'>\n",
      "ZARR\n"
     ]
    }
   ],
   "source": [
    "z = zarr.array(array, chunks=(1, 1, 5, 7964, 7164), dtype='uint16')\n",
    "zarr_info = z.info\n",
    "print(type(zarr_info))\n",
    "\n",
    "if type(z) is np.ndarray:\n",
    "    print('NumPy Array')\n",
    "elif type(z) is zarr.core.Array:\n",
    "    print('ZARR')  "
   ]
  },
  {
   "cell_type": "code",
   "execution_count": 9,
   "metadata": {
    "slideshow": {
     "slide_type": "slide"
    }
   },
   "outputs": [
    {
     "name": "stdout",
     "output_type": "stream",
     "text": [
      "55 37601\n"
     ]
    },
    {
     "data": {
      "application/vnd.jupyter.widget-view+json": {
       "model_id": "8f5ac551418c42429651cc4369d2f729",
       "version_major": 2,
       "version_minor": 0
      },
      "text/plain": [
       "Output()"
      ]
     },
     "metadata": {},
     "output_type": "display_data"
    },
    {
     "data": {
      "application/vnd.jupyter.widget-view+json": {
       "model_id": "331063f4cddd4ec29baf773bf30a67da",
       "version_major": 2,
       "version_minor": 0
      },
      "text/plain": [
       "VBox(children=(IntSlider(value=1, continuous_update=False, description='Blocks:', disabled=True, max=1, min=1)…"
      ]
     },
     "metadata": {},
     "output_type": "display_data"
    }
   ],
   "source": [
    "# display data using ipy widgets\n",
    "if metadata['Extension'] == 'ome.tiff':\n",
    "    ui, out = imf.create_ipyviewer_ome_tiff(array, metadata)\n",
    "if metadata['Extension'] == 'czi':\n",
    "    #ui, out = imf.create_ipyviewer_czi(array, metadata)\n",
    "    ui, out = imf.create_ipyviewer_czi(z[:], metadata)\n",
    "\n",
    "display(ui, out)"
   ]
  },
  {
   "cell_type": "code",
   "execution_count": 10,
   "metadata": {
    "slideshow": {
     "slide_type": "slide"
    }
   },
   "outputs": [
    {
     "name": "stdout",
     "output_type": "stream",
     "text": [
      "Initializing Napari Viewer ...\n",
      "Dim PosT :  -1\n",
      "Dim PosZ :  -1\n",
      "Dim PosC :  2\n",
      "Scale Factors :  [1.0, 1.0, 1.0, 1.0, 1.0]\n",
      "Shape Channel :  0 (1, 1, 7964, 7164)\n",
      "Adding Channel:  MT633\n",
      "Scaling Factors:  [1.0, 1.0, 1.0, 1.0, 1.0]\n",
      "Scaling:  [362, 13926.0]\n",
      "Shape Channel :  1 (1, 1, 7964, 7164)\n",
      "Adding Channel:  AF568\n",
      "Scaling Factors:  [1.0, 1.0, 1.0, 1.0, 1.0]\n",
      "Scaling:  [82, 3721.0]\n",
      "Shape Channel :  2 (1, 1, 7964, 7164)\n",
      "Adding Channel:  FITC\n",
      "Scaling Factors:  [1.0, 1.0, 1.0, 1.0, 1.0]\n",
      "Scaling:  [577, 13926.0]\n",
      "Shape Channel :  3 (1, 1, 7964, 7164)\n",
      "Adding Channel:  DAPI\n",
      "Scaling Factors:  [1.0, 1.0, 1.0, 1.0, 1.0]\n",
      "Scaling:  [55, 10712.0]\n",
      "Shape Channel :  4 (1, 1, 7964, 7164)\n",
      "Adding Channel:  PGC\n",
      "Scaling Factors:  [1.0, 1.0, 1.0, 1.0, 1.0]\n",
      "Scaling:  [26413, 31961.0]\n"
     ]
    }
   ],
   "source": [
    "# try to configure napari automatiaclly based on metadata\n",
    "#imf.show_napari(array, metadata)\n",
    "imf.show_napari(z[:], metadata)"
   ]
  },
  {
   "cell_type": "code",
   "execution_count": null,
   "metadata": {
    "slideshow": {
     "slide_type": "slide"
    }
   },
   "outputs": [],
   "source": [
    "# configure napari viewer manually - check array shape and dimensions order carefully \n",
    "    \n",
    "# get the scalefactors\n",
    "scalefactors = imf.get_scalefactor(metadata)\n",
    "print(scalefactors)\n",
    "\n",
    "array = np.squeeze(array, axis=(0, 1))\n",
    "\n",
    "viewer = napari.Viewer()\n",
    "# add every channel as a single layer\n",
    "for ch in range(metadata['SizeC']):\n",
    "    chname = metadata['Channels'][ch]\n",
    "    viewer.add_image(array[ch, :, :, :], name=chname, scale=(1, scalefactors['zx'], 1, 1))"
   ]
  },
  {
   "cell_type": "markdown",
   "metadata": {},
   "source": [
    "jupyter nbconvert CZI-ZARR.ipynb --to slides --post serve"
   ]
  },
  {
   "cell_type": "code",
   "execution_count": null,
   "metadata": {},
   "outputs": [],
   "source": []
  }
 ],
 "metadata": {
  "celltoolbar": "Slideshow",
  "file_extension": ".py",
  "kernelspec": {
   "display_name": "Python 3",
   "language": "python",
   "name": "python3"
  },
  "language_info": {
   "codemirror_mode": {
    "name": "ipython",
    "version": 3
   },
   "file_extension": ".py",
   "mimetype": "text/x-python",
   "name": "python",
   "nbconvert_exporter": "python",
   "pygments_lexer": "ipython3",
   "version": "3.7.6"
  },
  "mimetype": "text/x-python",
  "name": "python",
  "npconvert_exporter": "python",
  "pygments_lexer": "ipython3",
  "version": 3
 },
 "nbformat": 4,
 "nbformat_minor": 2
}
